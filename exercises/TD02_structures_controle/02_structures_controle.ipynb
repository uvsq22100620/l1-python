{
 "cells": [
  {
   "cell_type": "markdown",
   "source": [
    "# TD 2: Les structures de contrôle\n",
    "\n",
    "---\n",
    "\n",
    "## 0. Récupération des nouveaux documents\n",
    "\n",
    "\n",
    "Les sujets de TD ainsi que les supports de cours sont publiés en ligne au fur et à mesure sur l'espace github original [https://github.com/uvsq-info/l1-python](https://github.com/uvsq-info/l1-python). Au moment où vous avez fait le fork de cet espace sur votre espace personnel, il est probable que tous les contenus n'étaient pas présents. Pour compléter votre espace, deux solutions sont possibles:\n",
    "\n",
    "\n",
    "1. (solution à privilégier) aller sur la page du projet original [https://github.com/uvsq-info/l1-python](https://github.com/uvsq-info/l1-python), et cliquer sur le bouton vert `Code` en haut à droite. Choisir `download ZIP`, puis extraire l'ensemble des nouveaux fichiers vers votre projet personnel local. Vous pouvez ensuite sauvegarder ces ajouts dans votre espace github personnel en suivant la procédure habituelle.\n",
    "2. (solution qui présente des risques de conflits entre différentes versions d'un même document) en ligne de commande dans le terminal, en suivant la procédure de la section *Intégrer les mises à jour du projet original* du fichier [README.md](https://github.com/uvsq-info/l1-python/blob/master/README.md#int%C3%A9grer-les-mises-%C3%A0-jour-du-projet-original)\n"
   ],
   "metadata": {
    "slideshow": {
     "slide_type": "slide"
    }
   }
  },
  {
   "cell_type": "markdown",
   "source": [
    "---\n",
    "\n",
    "## 1. Premiers exercices avec les structures conditionnelles\n",
    "\n",
    "**Exercice 1:**\n",
    "\n",
    "1. Soit *num1 = 15* et *num2 = 5*. Ecrire un programme qui affiche *Factors!* si l'un des nombres est un facteur de l'autre (c'est-à-dire qu'il divise l'autre nombre). Si aucun des nombres n'est un facteur de l'autre, le programme n'affiche rien.\n",
    "2. Changer le code que vous avez écrit de telle sorte qu'il affiche toujours *Factors!* si un nombre est un facteur de l'autre, mais qui affiche aussi *Not factors!* si aucun des nombres n'est un facteur de l'autre."
   ],
   "metadata": {
    "slideshow": {
     "slide_type": "slide"
    }
   }
  },
  {
   "cell_type": "code",
   "execution_count": 6,
   "source": [
    "num1 = 15\r\n",
    "num2 = 5\r\n",
    "if num1%num2 == 0:\r\n",
    "    print (\"Factors!\")"
   ],
   "outputs": [
    {
     "output_type": "stream",
     "name": "stdout",
     "text": [
      "Factors!\n"
     ]
    }
   ],
   "metadata": {
    "slideshow": {
     "slide_type": "notes"
    }
   }
  },
  {
   "cell_type": "code",
   "execution_count": 33,
   "source": [
    "num1 = 15\r\n",
    "num2 = 5\r\n",
    "def factors(a,b):\r\n",
    "    if a%b == 0 or b%a ==0:\r\n",
    "        return \"Factors!\"\r\n",
    "    else:\r\n",
    "        return \"Not factors !\"\r\n",
    "\r\n",
    "factors(15,5)\r\n"
   ],
   "outputs": [
    {
     "output_type": "execute_result",
     "data": {
      "text/plain": [
       "'Factors!'"
      ]
     },
     "metadata": {},
     "execution_count": 33
    }
   ],
   "metadata": {}
  },
  {
   "cell_type": "code",
   "execution_count": 34,
   "source": [
    "factors(2,20)"
   ],
   "outputs": [
    {
     "output_type": "execute_result",
     "data": {
      "text/plain": [
       "'Factors!'"
      ]
     },
     "metadata": {},
     "execution_count": 34
    }
   ],
   "metadata": {}
  },
  {
   "cell_type": "code",
   "execution_count": 35,
   "source": [
    "factors(2,15)"
   ],
   "outputs": [
    {
     "output_type": "execute_result",
     "data": {
      "text/plain": [
       "'Not factors !'"
      ]
     },
     "metadata": {},
     "execution_count": 35
    }
   ],
   "metadata": {}
  },
  {
   "cell_type": "markdown",
   "source": [
    "**Exercice 2:**\n",
    "    \n",
    "Soit *state = \"Georgia\"*. Ecrire un programme qui permet d'afficher un message spécifique en fonction de la variable *state* :  \n",
    "* \"School isn't cancelled.\" si nous sommes à New Jersey,  \n",
    "* \"School is postponed.\" si nous sommes à North Carolina,\n",
    "* \"School is cancelled!\" si nous sommes à Georgia,  \n",
    "* \"School's status is unknown\" si nous ne sommes pas dans un des trois états précédemment mentionnés."
   ],
   "metadata": {
    "slideshow": {
     "slide_type": "slide"
    }
   }
  },
  {
   "cell_type": "code",
   "execution_count": 15,
   "source": [
    "state = \"Georgia\"\r\n",
    "def etat(state):\r\n",
    "    if state == \"New Jersey\":\r\n",
    "        return \"School isn't cancelled\"\r\n",
    "    elif state == \"North Carolina\":\r\n",
    "        return \"School is postponed\"\r\n",
    "    elif state == \"Georgia\":\r\n",
    "        return \"School is cancelled !\"\r\n",
    "    else :\r\n",
    "        return \"School status is unknown\""
   ],
   "outputs": [],
   "metadata": {
    "slideshow": {
     "slide_type": "notes"
    }
   }
  },
  {
   "cell_type": "code",
   "execution_count": 16,
   "source": [
    "etat(state)"
   ],
   "outputs": [
    {
     "output_type": "execute_result",
     "data": {
      "text/plain": [
       "'School is cancelled !'"
      ]
     },
     "metadata": {},
     "execution_count": 16
    }
   ],
   "metadata": {}
  },
  {
   "cell_type": "code",
   "execution_count": 17,
   "source": [
    "etat(\"France\")"
   ],
   "outputs": [
    {
     "output_type": "execute_result",
     "data": {
      "text/plain": [
       "'School status is unknown'"
      ]
     },
     "metadata": {},
     "execution_count": 17
    }
   ],
   "metadata": {}
  },
  {
   "cell_type": "markdown",
   "source": [
    "**Exercice 3:**\n",
    "\n",
    "Ecrire un programme pour découvrir le signe du zodiaque chinois pour une année donnée. Le signe du zodiaque chinois est basé sur un cycle de 12 ans et chaque année de ce cycle est représentée par un animal :\n",
    "* 0: monkey\n",
    "* 1: rooster\n",
    "* 2: dog\n",
    "* 3: pig\n",
    "* 4: rat\n",
    "* 5: ox\n",
    "* 6: tiger\n",
    "* 7: rabbit\n",
    "* 8: dragon\n",
    "* 9: snake\n",
    "* 10: horse\n",
    "* 11: sheep\n",
    "\n",
    "La valeur de l'année % 12 détermine le signe du zodiaque. Par exemple, 1900 est l'année du *rat* puisque 1900 % 12 est 4."
   ],
   "metadata": {
    "slideshow": {
     "slide_type": "slide"
    }
   }
  },
  {
   "cell_type": "code",
   "execution_count": 18,
   "source": [
    "signe = {1:\"rooster\", 2:\"dog\", 3:\"pig\", 4:\"rat\", 5:\"ox\", 6:\"tiger\", 7:\"rabbit\", 8:\"dragon\", 9:\"snake\", 10:\"horse\", 11:\"sheep\"}\r\n",
    "def zodiac(annee):\r\n",
    "    result = annee%12\r\n",
    "    return signe[result]"
   ],
   "outputs": [],
   "metadata": {
    "slideshow": {
     "slide_type": "notes"
    }
   }
  },
  {
   "cell_type": "code",
   "execution_count": 19,
   "source": [
    "zodiac(1900)"
   ],
   "outputs": [
    {
     "output_type": "execute_result",
     "data": {
      "text/plain": [
       "'rat'"
      ]
     },
     "metadata": {},
     "execution_count": 19
    }
   ],
   "metadata": {}
  },
  {
   "cell_type": "code",
   "execution_count": 20,
   "source": [
    "zodiac(2003)"
   ],
   "outputs": [
    {
     "output_type": "execute_result",
     "data": {
      "text/plain": [
       "'sheep'"
      ]
     },
     "metadata": {},
     "execution_count": 20
    }
   ],
   "metadata": {}
  },
  {
   "cell_type": "code",
   "execution_count": null,
   "source": [],
   "outputs": [],
   "metadata": {}
  },
  {
   "cell_type": "markdown",
   "source": [
    "**Exercice 4:**\n",
    "\n",
    "Soit *temperature = -3.7* et *celsius = True*. *celsius* est une variable booléenne qui indique si la température est en Celsius; si c'est *False*, alors la température donnée est en Fahrenheit. Ecrire un premier programme en utilisant *if-else* seulement qui permet d'afficher *Freezing* si les valeurs données représentent une température très basse, et *Not freezing* si ce n'est pas le cas. En Celsius, on considère qu'il fait très froid lorsque la température est inférieure ou égale à 0 degré. En Fahrenheit, on considère qu'il fait très froid lorsque la température est inférieure ou égale à 32 degrés. Proposer une seconde solution en utilisant *if-elif-else* à ce même problème."
   ],
   "metadata": {
    "slideshow": {
     "slide_type": "slide"
    }
   }
  },
  {
   "cell_type": "code",
   "execution_count": 22,
   "source": [
    "temperature = -3,7\r\n",
    "celsius = True\r\n",
    "def freeze(temperature, celsius):\r\n",
    "    if celsius == True :\r\n",
    "        if temperature <= 0:\r\n",
    "            return \"Freezing\"\r\n",
    "        else :\r\n",
    "            return \"Not freezing\"\r\n",
    "    else:\r\n",
    "        if temperature <= 32:\r\n",
    "            return \"Freezing\"\r\n",
    "        else :\r\n",
    "            return \"Not freezing\""
   ],
   "outputs": [],
   "metadata": {
    "slideshow": {
     "slide_type": "notes"
    }
   }
  },
  {
   "cell_type": "code",
   "execution_count": 50,
   "source": [
    "temperature = -3,7\r\n",
    "celsius = True\r\n",
    "if (celsius == True and temperature <= 0) or ( celsius == False and temperature <= 32):\r\n",
    "    print(\"Freezing\")\r\n",
    "else :\r\n",
    "    print(\"not freezng\")"
   ],
   "outputs": [
    {
     "output_type": "error",
     "ename": "TypeError",
     "evalue": "'<=' not supported between instances of 'tuple' and 'int'",
     "traceback": [
      "\u001b[1;31m---------------------------------------------------------------------------\u001b[0m",
      "\u001b[1;31mTypeError\u001b[0m                                 Traceback (most recent call last)",
      "\u001b[1;32m~\\AppData\\Local\\Temp/ipykernel_9908/2917533255.py\u001b[0m in \u001b[0;36m<module>\u001b[1;34m\u001b[0m\n\u001b[0;32m      1\u001b[0m \u001b[0mtemperature\u001b[0m \u001b[1;33m=\u001b[0m \u001b[1;33m-\u001b[0m\u001b[1;36m3\u001b[0m\u001b[1;33m,\u001b[0m\u001b[1;36m7\u001b[0m\u001b[1;33m\u001b[0m\u001b[1;33m\u001b[0m\u001b[0m\n\u001b[0;32m      2\u001b[0m \u001b[0mcelsius\u001b[0m \u001b[1;33m=\u001b[0m \u001b[1;32mTrue\u001b[0m\u001b[1;33m\u001b[0m\u001b[1;33m\u001b[0m\u001b[0m\n\u001b[1;32m----> 3\u001b[1;33m \u001b[1;32mif\u001b[0m \u001b[1;33m(\u001b[0m\u001b[0mcelsius\u001b[0m \u001b[1;33m==\u001b[0m \u001b[1;32mTrue\u001b[0m \u001b[1;32mand\u001b[0m \u001b[0mtemperature\u001b[0m \u001b[1;33m<=\u001b[0m \u001b[1;36m0\u001b[0m\u001b[1;33m)\u001b[0m \u001b[1;32mor\u001b[0m \u001b[1;33m(\u001b[0m \u001b[0mcelsius\u001b[0m \u001b[1;33m==\u001b[0m \u001b[1;32mFalse\u001b[0m \u001b[1;32mand\u001b[0m \u001b[0mtemperature\u001b[0m \u001b[1;33m<=\u001b[0m \u001b[1;36m32\u001b[0m\u001b[1;33m)\u001b[0m\u001b[1;33m:\u001b[0m\u001b[1;33m\u001b[0m\u001b[1;33m\u001b[0m\u001b[0m\n\u001b[0m\u001b[0;32m      4\u001b[0m     \u001b[0mprint\u001b[0m\u001b[1;33m(\u001b[0m\u001b[1;34m\"Freezing\"\u001b[0m\u001b[1;33m)\u001b[0m\u001b[1;33m\u001b[0m\u001b[1;33m\u001b[0m\u001b[0m\n\u001b[0;32m      5\u001b[0m \u001b[1;32melse\u001b[0m \u001b[1;33m:\u001b[0m\u001b[1;33m\u001b[0m\u001b[1;33m\u001b[0m\u001b[0m\n",
      "\u001b[1;31mTypeError\u001b[0m: '<=' not supported between instances of 'tuple' and 'int'"
     ]
    }
   ],
   "metadata": {}
  },
  {
   "cell_type": "markdown",
   "source": [
    "**Exercice 5:**\n",
    "    \n",
    "Ecrire un programme qui permet de déterminer si une année est bissextile ou non en utilisant une seule instruction *if-else*. Une année *A* est bissextile si *A* est divisible par 4. Elle ne l’est cependant pas si *A* est un multiple\n",
    "de 100, à moins que *A* ne soit multiple de 400.    "
   ],
   "metadata": {
    "slideshow": {
     "slide_type": "slide"
    }
   }
  },
  {
   "cell_type": "code",
   "execution_count": 54,
   "source": [
    "def bissextile(A):\r\n",
    "    if A%4 == 0 or 400%A == 0:\r\n",
    "        return \"bissextile\"\r\n",
    "    else:\r\n",
    "        return \"not bissextile\""
   ],
   "outputs": [],
   "metadata": {
    "slideshow": {
     "slide_type": "notes"
    }
   }
  },
  {
   "cell_type": "code",
   "execution_count": 58,
   "source": [
    "annee = 2014\r\n",
    "if annee%4 == 0 and (annee%400 == 0 or annee%100 != 0):\r\n",
    "    print(\"bissextile\")\r\n",
    "else:\r\n",
    "    print(\"not bissextile\")"
   ],
   "outputs": [
    {
     "output_type": "stream",
     "name": "stdout",
     "text": [
      "not bissextile\n"
     ]
    }
   ],
   "metadata": {}
  },
  {
   "cell_type": "code",
   "execution_count": 55,
   "source": [
    "bissextile(2020)"
   ],
   "outputs": [
    {
     "output_type": "execute_result",
     "data": {
      "text/plain": [
       "'bissextile'"
      ]
     },
     "metadata": {},
     "execution_count": 55
    }
   ],
   "metadata": {}
  },
  {
   "cell_type": "code",
   "execution_count": 56,
   "source": [
    "bissextile(2014)"
   ],
   "outputs": [
    {
     "output_type": "execute_result",
     "data": {
      "text/plain": [
       "'not bissextile'"
      ]
     },
     "metadata": {},
     "execution_count": 56
    }
   ],
   "metadata": {}
  },
  {
   "cell_type": "markdown",
   "source": [
    "---\n",
    "\n",
    "## 2. Premiers exercices avec les structures itératives\n",
    "\n",
    "**Exercice 6:**\n",
    "\n",
    "1. Ecrire un programme qui permet d'afficher tous les nombres entre 1 et 10 (bornes incluses).\n",
    "2. Ecrire un programme se limitant à la boucle *for* qui permet d'afficher tous les nombres pairs entre 1 et 20 (bornes incluses). Proposer une deuxième solution en incluant une structure conditionnelle."
   ],
   "metadata": {}
  },
  {
   "cell_type": "code",
   "execution_count": 32,
   "source": [
    "for a in range (11):\r\n",
    "    print(a)"
   ],
   "outputs": [
    {
     "output_type": "stream",
     "name": "stdout",
     "text": [
      "0\n",
      "1\n",
      "2\n",
      "3\n",
      "4\n",
      "5\n",
      "6\n",
      "7\n",
      "8\n",
      "9\n",
      "10\n"
     ]
    }
   ],
   "metadata": {}
  },
  {
   "cell_type": "code",
   "execution_count": 85,
   "source": [
    "for a in range(2,21,2):\r\n",
    "    print(a)"
   ],
   "outputs": [
    {
     "output_type": "stream",
     "name": "stdout",
     "text": [
      "2\n",
      "4\n",
      "6\n",
      "8\n",
      "10\n",
      "12\n",
      "14\n",
      "16\n",
      "18\n",
      "20\n"
     ]
    }
   ],
   "metadata": {}
  },
  {
   "cell_type": "code",
   "execution_count": 38,
   "source": [
    "for a in range(21):\r\n",
    "    if a%2 == 0:\r\n",
    "        print (a)"
   ],
   "outputs": [
    {
     "output_type": "stream",
     "name": "stdout",
     "text": [
      "0\n",
      "2\n",
      "4\n",
      "6\n",
      "8\n",
      "10\n",
      "12\n",
      "14\n",
      "16\n",
      "18\n",
      "20\n"
     ]
    }
   ],
   "metadata": {}
  },
  {
   "cell_type": "markdown",
   "source": [
    "**Exercice 7:**\n",
    "    \n",
    "1. Ecrire un programme qui demande à l'utilisateur de saisir *n* nombres, *n* étant choisi par l'utilisateur, puis d'afficher la moyenne de ces nombres.\n",
    "\n",
    "2. Même question, mais l'utilisateur ne choisit pas à l'avance le nombre *n*, la procédure s'arrête quand il saisit le nombre -1.\n"
   ],
   "metadata": {}
  },
  {
   "cell_type": "code",
   "execution_count": 88,
   "source": [
    "n = int(input(\"n nombre\"))\r\n",
    "result = 0\r\n",
    "for i in range (0, n):\r\n",
    "    val = int(input(\"\"))\r\n",
    "    result += val\r\n",
    "print(result/n)"
   ],
   "outputs": [
    {
     "output_type": "stream",
     "name": "stdout",
     "text": [
      "3.0\n"
     ]
    }
   ],
   "metadata": {}
  },
  {
   "cell_type": "code",
   "execution_count": 124,
   "source": [
    "val = int(input(\" \"))\r\n",
    "moyenne = 0\r\n",
    "compteur = 0\r\n",
    "while (val != -1):\r\n",
    "    moyenne += val\r\n",
    "    val = int(input(\"\"))\r\n",
    "    compteur +=1\r\n",
    "print (moyenne/compteur)"
   ],
   "outputs": [
    {
     "output_type": "stream",
     "name": "stdout",
     "text": [
      "14.5\n"
     ]
    }
   ],
   "metadata": {}
  },
  {
   "cell_type": "markdown",
   "source": [
    "**Exercice 8:**\r\n",
    "\r\n",
    "Ecrire un programme qui permet de calculer le factoriel d'un nombre positif donné par l'utlisateur selon la formule suivante : \r\n",
    "n! = 1 x 2 x ... x n.  \r\n",
    "\r\n",
    "1. Une première version en utilisant la boucle *for*\r\n",
    "2. Une seconde version en utilisant la boucle *while*"
   ],
   "metadata": {}
  },
  {
   "cell_type": "code",
   "execution_count": 97,
   "source": [
    "n = int(input(\"Donner un entier\"))\r\n",
    "factoriel = 1\r\n",
    "for i in range (1, n+1):\r\n",
    "    factoriel *= i\r\n",
    "print(factoriel)"
   ],
   "outputs": [
    {
     "output_type": "stream",
     "name": "stdout",
     "text": [
      "24\n"
     ]
    }
   ],
   "metadata": {}
  },
  {
   "cell_type": "code",
   "execution_count": 105,
   "source": [
    "n = int(input(\"Donner un entier\"))\r\n",
    "factoriel = 1\r\n",
    "i = 1\r\n",
    "while i <= n :\r\n",
    "    factoriel *= i\r\n",
    "    i += 1\r\n",
    "print(factoriel)"
   ],
   "outputs": [
    {
     "output_type": "stream",
     "name": "stdout",
     "text": [
      "24\n"
     ]
    }
   ],
   "metadata": {}
  },
  {
   "cell_type": "markdown",
   "source": [
    "---\r\n",
    "\r\n",
    "## 3. Pour aller plus loin\r\n",
    "\r\n",
    "**Excercice 9:**\r\n",
    "\r\n",
    "Ecrire un programme qui permet de connaître le jour de naissance de l'utilisateur en posant cinq questions.\r\n",
    "Chaque question demande si le jour est dans l'un des cinq ensembles suivants :\r\n",
    "\r\n",
    "* Set 1: \\[1 3 5 7 9 11 13 15 17 19 21 23 25 27 29 31\\]\r\n",
    "* Set 2: \\[2 3 6 7 10 11 14 15 18 19 22 23 26 27 30 31\\]\r\n",
    "* Set 3: \\[4 5 6 7 12 13 14 15 20 21 22 23 28 29 30 31\\]\r\n",
    "* Set 4: \\[8 9 10 11 12 13 14 15 24 25 26 27 28 29 30 31\\]\r\n",
    "* Set 5: \\[16 17 18 19 20 21 22 23 24 25 26 27 28 29 30 31\\]\r\n",
    "    \r\n",
    "\r\n",
    "Le jour de naissance est la somme des premiers nombres dans les ensembles où le jour apparaît. Par exemple,\r\n",
    "si le jour de naissance est 19, il apparaît dans Set 1, Set 2 et Set 5. Les premiers chiffres de ces trois ensembles sont 1, 2 et 16. Leur somme est 19."
   ],
   "metadata": {
    "slideshow": {
     "slide_type": "slide"
    }
   }
  },
  {
   "cell_type": "code",
   "execution_count": 106,
   "source": [
    "somme = 0\r\n",
    "rep1 = input(\"Est ce que le jour de votre naissance est dans le set 1 ? (répondre par 1 ou 0)\")\r\n",
    "if rep1 == \"1\":\r\n",
    "    somme += 1\r\n",
    "rep2 = input(\"Est ce que le jour de votre naissance est dans le set 2 ? (répondre par 1 ou 0)\")\r\n",
    "if rep2 == \"1\":\r\n",
    "    somme +=2\r\n",
    "rep3 = input(\"Est ce que le jour de votre naissance est dans le set 3 ? (répondre par 1 ou 0)\")\r\n",
    "if rep3 == \"1\":\r\n",
    "    somme += 4 \r\n",
    "rep4 = input(\"Est ce que le jour de votre naissance est dans le set 4 ? (répondre par 1 ou 0)\")\r\n",
    "if rep4 == \"1\":\r\n",
    "    somme += 8\r\n",
    "rep5 = input(\"Est ce que le jour de votre naissance est dans le set 5 ? (répondre par 1 ou 0)\")\r\n",
    "if rep5 == \"1\":\r\n",
    "    somme += 16\r\n",
    "print (somme)"
   ],
   "outputs": [
    {
     "output_type": "stream",
     "name": "stdout",
     "text": [
      "14\n"
     ]
    }
   ],
   "metadata": {
    "slideshow": {
     "slide_type": "notes"
    }
   }
  },
  {
   "cell_type": "markdown",
   "source": [
    "**Excercice 10:**\r\n",
    "\r\n",
    "Ecrire un programme qui permet de génèrer de manière aléatoire un nombre à deux chiffres, invite l'utilisateur à saisir un nombre à deux chiffres et détermine si l'utilisateur gagne selon les règles suivantes :\r\n",
    "* Si l'entrée de l'utilisateur correspond à la loterie (le nombre généré aléatoirement) dans l'ordre exact, la récompense est de 10 000€.\r\n",
    "* Sinon, si les deux chiffres entrés par l'utilisateur correspondent aux deux chiffres du numéro de loterie, la récompense est de 3 000€.\r\n",
    "* Sinon, si un chiffre dans l'entrée de l'utilisateur correspond à un chiffre dans le numéro de loterie, la récompense est de 1 000€.\r\n",
    "\r\n",
    "**Astuce :** Utiliser la fonction **random.randint(0, 99)** pour génèrer de manière aléatoire un nombre à deux chiffres. Cette fonction doit être accompagné par **import random** comme première instruction dans le code."
   ],
   "metadata": {
    "slideshow": {
     "slide_type": "slide"
    }
   }
  },
  {
   "cell_type": "code",
   "execution_count": 116,
   "source": [
    "import random\r\n",
    "loterie = random.randint(10,99)\r\n",
    "user = -1\r\n",
    "while user < 0 or user > 99:\r\n",
    "    user = int(input(\"saisir un nombre à 2 chiffres\"))\r\n",
    "loterie_chiffre1 = loterie//10\r\n",
    "loterie_chiffre2 = loterie%10\r\n",
    "user_chiffre1 = user//10\r\n",
    "user_chiffre2 = user%10\r\n",
    "if user == loterie:\r\n",
    "    print(\"Récompense de 10 000€\")\r\n",
    "elif loterie_chiffre1 == user_chiffre2 and loterie_chiffre2 == user_chiffre1:\r\n",
    "    print(\"Récompense de 3 000€\")\r\n",
    "elif loterie_chiffre1 == user_chiffre1 or loterie_chiffre1 == user_chiffre2 or loterie_chiffre2 == user_chiffre1 or loterie_chiffre2 == user_chiffre2:\r\n",
    "    print(\"Récompense de 1 000€\")\r\n",
    "else :\r\n",
    "    print(\"Perdu\")"
   ],
   "outputs": [
    {
     "output_type": "stream",
     "name": "stdout",
     "text": [
      "Perdu\n"
     ]
    }
   ],
   "metadata": {
    "slideshow": {
     "slide_type": "notes"
    }
   }
  },
  {
   "cell_type": "markdown",
   "source": [
    "**Exercice 11:**\n",
    "    \n",
    "Ecrire un programme qui permet de calculer la somme des chiffres d'un entier *n* donné. Le nombre *n* doit être compris entre 10 et 20 (bornes incluses)."
   ],
   "metadata": {}
  },
  {
   "cell_type": "code",
   "execution_count": 110,
   "source": [
    "n = int(input(\"entier n entre 10 inclus et 20 inclus\"))\r\n",
    "somme = 0\r\n",
    "if n >=10 and n<=20 :\r\n",
    "    for i in range (1, n+1):\r\n",
    "        somme += i\r\n",
    "print(somme)\r\n"
   ],
   "outputs": [
    {
     "output_type": "stream",
     "name": "stdout",
     "text": [
      "66\n"
     ]
    }
   ],
   "metadata": {}
  },
  {
   "cell_type": "code",
   "execution_count": 165,
   "source": [
    "n = 0\r\n",
    "while (n<10 or n>20):\r\n",
    "    n = int(input(\"\"))\r\n",
    "    chiffre1 = n%10\r\n",
    "    chiffre2 = n//10\r\n",
    "print(chiffre1 + chiffre2)"
   ],
   "outputs": [
    {
     "output_type": "stream",
     "name": "stdout",
     "text": [
      "9\n"
     ]
    }
   ],
   "metadata": {}
  },
  {
   "cell_type": "markdown",
   "source": [
    "**Exercice 12:**\n",
    "\n",
    "1. Ecrire un programme qui permet de générer aléatoirement deux nombres entre 0 et 9, de calculer leurs différences (en valeur absolue), puis d'inviter l'utilisateur à répondre à la question suivante *que vaut abs(number1 - number2)?*. Le programme doit permettre à l'utilisateur de répondre plusieurs fois jusqu'à la saisie de la bonne réponse.\n",
    "2. Modifier le programme précédent de telle sorte qu'il génère cinq occurences à la suite invitant à répondre à la question précédente. A la fin, le programme affiche le nombre moyen de tentatives qu'il a fallu à l'utilisateur pour répondre à une question."
   ],
   "metadata": {}
  },
  {
   "cell_type": "code",
   "execution_count": 162,
   "source": [
    "import random\r\n",
    "nb1 = random.randint(0, 9)\r\n",
    "nb2 = random.randint(0, 9)\r\n",
    "diff = abs(nb1 - nb2)\r\n",
    "reponse = int(input(\"Que vaut abs(nb1 - nb2 ?\"))\r\n",
    "while reponse != diff:\r\n",
    "    reponse = int(input(\"Que vaut abs(nb1 - nb2 ?\"))\r\n",
    "print(\"Victoire !\")\r\n"
   ],
   "outputs": [
    {
     "output_type": "stream",
     "name": "stdout",
     "text": [
      "Victoire !\n"
     ]
    }
   ],
   "metadata": {
    "tags": []
   }
  },
  {
   "cell_type": "code",
   "execution_count": 169,
   "source": [
    "import random\r\n",
    "nb1 = random.randint(0, 9)\r\n",
    "nb2 = random.randint(0, 9)\r\n",
    "resultat = -1\r\n",
    "while (resultat != abs(nb1-nb2)):\r\n",
    "    resultat = int(input(\"Que vaut abs(nb1 - nb2 ?)\"))\r\n",
    "print(\"vicoire\")"
   ],
   "outputs": [
    {
     "output_type": "stream",
     "name": "stdout",
     "text": [
      "vicoire\n"
     ]
    }
   ],
   "metadata": {}
  },
  {
   "cell_type": "code",
   "execution_count": null,
   "source": [
    "import random\r\n",
    "nb1 = random.randint(0, 9)\r\n",
    "nb2 = random.randint(0, 9)\r\n",
    "diff = abs(nb1 - nb2)\r\n",
    "cmpt = 0\r\n",
    "reponse = int(input(\"Que vaut abs(nb1 - nb2 ?)\"))\r\n",
    "for i in range (5):\r\n",
    "    reponse = int(input(\"Que vaut abs(nb1 - nb2 ?)\"))\r\n",
    "    if reponse == diff:\r\n",
    "        cmpt += 1\r\n",
    "if cmpt != 0 :\r\n",
    "    print (\"Il a fallu\", cmpt, \"tentative à l'utisateur pour répondre à une question\")\r\n",
    "else:\r\n",
    "    print(\"try again)\")"
   ],
   "outputs": [],
   "metadata": {}
  },
  {
   "cell_type": "code",
   "execution_count": 172,
   "source": [
    "nb_essai = 0\r\n",
    "for i in range(0,5):\r\n",
    "    nb1 = random.randint(0, 9)\r\n",
    "    nb2 = random.randint(0, 9)\r\n",
    "    resultat = -1\r\n",
    "    while (resultat != abs(nb1-nb2)):\r\n",
    "        resultat = int(input(\"Que vaut abs(nb1 - nb2 ?)\"))\r\n",
    "        nb_essai += 1\r\n",
    "print(nb_essai/5)"
   ],
   "outputs": [
    {
     "output_type": "error",
     "ename": "KeyboardInterrupt",
     "evalue": "Interrupted by user",
     "traceback": [
      "\u001b[1;31m---------------------------------------------------------------------------\u001b[0m",
      "\u001b[1;31mKeyboardInterrupt\u001b[0m                         Traceback (most recent call last)",
      "\u001b[1;32m~\\AppData\\Local\\Temp/ipykernel_9908/803056791.py\u001b[0m in \u001b[0;36m<module>\u001b[1;34m\u001b[0m\n\u001b[0;32m      5\u001b[0m     \u001b[0mresultat\u001b[0m \u001b[1;33m=\u001b[0m \u001b[1;33m-\u001b[0m\u001b[1;36m1\u001b[0m\u001b[1;33m\u001b[0m\u001b[1;33m\u001b[0m\u001b[0m\n\u001b[0;32m      6\u001b[0m     \u001b[1;32mwhile\u001b[0m \u001b[1;33m(\u001b[0m\u001b[0mresultat\u001b[0m \u001b[1;33m!=\u001b[0m \u001b[0mabs\u001b[0m\u001b[1;33m(\u001b[0m\u001b[0mnb1\u001b[0m\u001b[1;33m-\u001b[0m\u001b[0mnb2\u001b[0m\u001b[1;33m)\u001b[0m\u001b[1;33m)\u001b[0m\u001b[1;33m:\u001b[0m\u001b[1;33m\u001b[0m\u001b[1;33m\u001b[0m\u001b[0m\n\u001b[1;32m----> 7\u001b[1;33m         \u001b[0mresultat\u001b[0m \u001b[1;33m=\u001b[0m \u001b[0mint\u001b[0m\u001b[1;33m(\u001b[0m\u001b[0minput\u001b[0m\u001b[1;33m(\u001b[0m\u001b[1;34m\"Que vaut abs(nb1 - nb2 ?)\"\u001b[0m\u001b[1;33m)\u001b[0m\u001b[1;33m)\u001b[0m\u001b[1;33m\u001b[0m\u001b[1;33m\u001b[0m\u001b[0m\n\u001b[0m\u001b[0;32m      8\u001b[0m         \u001b[0mnb_essai\u001b[0m \u001b[1;33m+=\u001b[0m \u001b[1;36m1\u001b[0m\u001b[1;33m\u001b[0m\u001b[1;33m\u001b[0m\u001b[0m\n\u001b[0;32m      9\u001b[0m \u001b[0mprint\u001b[0m\u001b[1;33m(\u001b[0m\u001b[0mnb_essai\u001b[0m\u001b[1;33m/\u001b[0m\u001b[1;36m5\u001b[0m\u001b[1;33m)\u001b[0m\u001b[1;33m\u001b[0m\u001b[1;33m\u001b[0m\u001b[0m\n",
      "\u001b[1;32m~\\miniconda3\\envs\\l1-python\\lib\\site-packages\\ipykernel\\kernelbase.py\u001b[0m in \u001b[0;36mraw_input\u001b[1;34m(self, prompt)\u001b[0m\n\u001b[0;32m   1004\u001b[0m                 \u001b[1;34m\"raw_input was called, but this frontend does not support input requests.\"\u001b[0m\u001b[1;33m\u001b[0m\u001b[1;33m\u001b[0m\u001b[0m\n\u001b[0;32m   1005\u001b[0m             )\n\u001b[1;32m-> 1006\u001b[1;33m         return self._input_request(\n\u001b[0m\u001b[0;32m   1007\u001b[0m             \u001b[0mstr\u001b[0m\u001b[1;33m(\u001b[0m\u001b[0mprompt\u001b[0m\u001b[1;33m)\u001b[0m\u001b[1;33m,\u001b[0m\u001b[1;33m\u001b[0m\u001b[1;33m\u001b[0m\u001b[0m\n\u001b[0;32m   1008\u001b[0m             \u001b[0mself\u001b[0m\u001b[1;33m.\u001b[0m\u001b[0m_parent_ident\u001b[0m\u001b[1;33m[\u001b[0m\u001b[1;34m\"shell\"\u001b[0m\u001b[1;33m]\u001b[0m\u001b[1;33m,\u001b[0m\u001b[1;33m\u001b[0m\u001b[1;33m\u001b[0m\u001b[0m\n",
      "\u001b[1;32m~\\miniconda3\\envs\\l1-python\\lib\\site-packages\\ipykernel\\kernelbase.py\u001b[0m in \u001b[0;36m_input_request\u001b[1;34m(self, prompt, ident, parent, password)\u001b[0m\n\u001b[0;32m   1049\u001b[0m             \u001b[1;32mexcept\u001b[0m \u001b[0mKeyboardInterrupt\u001b[0m\u001b[1;33m:\u001b[0m\u001b[1;33m\u001b[0m\u001b[1;33m\u001b[0m\u001b[0m\n\u001b[0;32m   1050\u001b[0m                 \u001b[1;31m# re-raise KeyboardInterrupt, to truncate traceback\u001b[0m\u001b[1;33m\u001b[0m\u001b[1;33m\u001b[0m\u001b[0m\n\u001b[1;32m-> 1051\u001b[1;33m                 \u001b[1;32mraise\u001b[0m \u001b[0mKeyboardInterrupt\u001b[0m\u001b[1;33m(\u001b[0m\u001b[1;34m\"Interrupted by user\"\u001b[0m\u001b[1;33m)\u001b[0m \u001b[1;32mfrom\u001b[0m \u001b[1;32mNone\u001b[0m\u001b[1;33m\u001b[0m\u001b[1;33m\u001b[0m\u001b[0m\n\u001b[0m\u001b[0;32m   1052\u001b[0m             \u001b[1;32mexcept\u001b[0m \u001b[0mException\u001b[0m\u001b[1;33m:\u001b[0m\u001b[1;33m\u001b[0m\u001b[1;33m\u001b[0m\u001b[0m\n\u001b[0;32m   1053\u001b[0m                 \u001b[0mself\u001b[0m\u001b[1;33m.\u001b[0m\u001b[0mlog\u001b[0m\u001b[1;33m.\u001b[0m\u001b[0mwarning\u001b[0m\u001b[1;33m(\u001b[0m\u001b[1;34m\"Invalid Message:\"\u001b[0m\u001b[1;33m,\u001b[0m \u001b[0mexc_info\u001b[0m\u001b[1;33m=\u001b[0m\u001b[1;32mTrue\u001b[0m\u001b[1;33m)\u001b[0m\u001b[1;33m\u001b[0m\u001b[1;33m\u001b[0m\u001b[0m\n",
      "\u001b[1;31mKeyboardInterrupt\u001b[0m: Interrupted by user"
     ]
    }
   ],
   "metadata": {}
  },
  {
   "cell_type": "markdown",
   "source": [
    "**Exercice 13:**\n",
    "\n",
    "Ecrire un programme qui permet de calculer le nombre de mots dans une phrase saisie par l'utilisateur."
   ],
   "metadata": {}
  },
  {
   "cell_type": "code",
   "execution_count": 174,
   "source": [
    "phrase = input(\"Ecrire une phrase\")\r\n",
    "nb_mot = 1\r\n",
    "for char in phrase:\r\n",
    "    if char == \" \" or char == \"\\'\":\r\n",
    "        nb_mot += 1\r\n",
    "print(f'La phrase {phrase} a {nb_mot} mot')\r\n"
   ],
   "outputs": [
    {
     "output_type": "stream",
     "name": "stdout",
     "text": [
      "La phrase bonjour je suis en LDDBI a 5 mot\n"
     ]
    }
   ],
   "metadata": {
    "tags": []
   }
  },
  {
   "cell_type": "code",
   "execution_count": 175,
   "source": [
    "phrase = input(\"Ecrire une phrase\")\r\n",
    "mots = phrase.split()\r\n",
    "len(mots)"
   ],
   "outputs": [
    {
     "output_type": "execute_result",
     "data": {
      "text/plain": [
       "5"
      ]
     },
     "metadata": {},
     "execution_count": 175
    }
   ],
   "metadata": {}
  },
  {
   "cell_type": "markdown",
   "source": [
    "---\n",
    "\n",
    "## 4. Pour s'entraîner\n",
    "\n",
    "**Exercice 14:**\n",
    "    \n",
    "Soit la variable my_input = \"zoophysiology\". Ecrire un script qui permet d'afficher l'un des messages suivants en fonction du nombre maximum de *o* consécutifs dans la variable *my_input*. Par exemple, le script doit afficher \"I like studying birds! I want to become an ornithologist!\" parce qu'il y a deux *o* consécutifs, même s'il y a aussi des *o* individual.\n",
    "Ignorer les *o* majuscules - recherchez que les *o* minuscules.\n",
    "\n",
    "* Si \"o\" apparaît trois fois ou plus de suite, afficher le message \"I like going to the zoo!\"  \n",
    "* Si \"o\" apparaît deux fois, afficher le message \"I like studying birds! I want to become an ornithologist!\"  \n",
    "* Si \"o\" apparaît une seule fois, afficher le message \"I like studying fish! I want to become an ichthyologist!\"  \n",
    "* Si \"o\" n'apparaît pas dans la variable *my_input*, afficher le message \"I miss going to the zoo!\"  \n",
    "\n",
    "**Astuce :** Utiliser l'opérateur **in** qui renvoie **True** si la première chaîne se trouve dans la deuxième chaîne. "
   ],
   "metadata": {
    "slideshow": {
     "slide_type": "slide"
    }
   }
  },
  {
   "cell_type": "code",
   "execution_count": 157,
   "source": [
    "my_input = input(\"\")\r\n",
    "if \"ooo\" in my_input:\r\n",
    "    print(\"I like going to the zoo\")\r\n",
    "elif \"oo\" in my_input:\r\n",
    "    print(\"I like studying birds ! I want to become an ornithologist\")\r\n",
    "elif \"o\" in my_input:\r\n",
    "    print(\"I miss going to the zoo\")"
   ],
   "outputs": [
    {
     "output_type": "stream",
     "name": "stdout",
     "text": [
      "I like studying birds ! I want to become an ornithologist\n"
     ]
    }
   ],
   "metadata": {
    "slideshow": {
     "slide_type": "notes"
    }
   }
  },
  {
   "cell_type": "code",
   "execution_count": null,
   "source": [
    "my_input = input(\"\")\r\n",
    "if my_input.count(\"ooo\")>0:\r\n",
    "    print(\"\")\r\n",
    "...."
   ],
   "outputs": [],
   "metadata": {}
  },
  {
   "cell_type": "code",
   "execution_count": null,
   "source": [
    "len(my_input.split(\"ooo\")) == 1"
   ],
   "outputs": [],
   "metadata": {}
  },
  {
   "cell_type": "markdown",
   "source": [
    "**Exercice 15:**\n",
    "    \n",
    "Créer quatre variables nommées *team_1* et *team_2*, représentant deux noms d'équipes, et *team_1_score* et *team_2_score*, représentant les scores de ces deux équipes. \n",
    "Une équipe gagne si son score est supérieur à l'autre score de l'autre équipe.\n",
    " \n",
    "Ecrire un premier script qui permet d'afficher les messages suivants selon les valeurs entrées, ceci en utilisant seulement les quatres variables créées :\n",
    "* Si une équipe bat l'autre, affichez: \"\\[winner\\] beat \\[loser\\] by \\[margin\\]\"\n",
    "* Si aucune des équipes n'a gagné, affichez: \"\\[team_1\\] played \\[team_2\\] and it was a tie\"\n",
    "\n",
    "Ecrire un deuxième script qui permet d'afficher les mêmes messages mais en ajoutant trois variables de plus :\n",
    "* La variable *winner* pour définir l'équipe gagnante  \n",
    "* La variable *loser* pour définier l'équipe perdante  \n",
    "* La variable *margin* pour définir la différence entre les deux scores \n"
   ],
   "metadata": {
    "slideshow": {
     "slide_type": "slide"
    }
   }
  },
  {
   "cell_type": "code",
   "execution_count": 164,
   "source": [
    "team_1 = \"equipe_1\"\r\n",
    "team_2 = \"equipe_2\"\r\n",
    "team_1_score = int(input(\"score 1 ?\"))\r\n",
    "team_2_score = int(input(\"score 2 ?\"))\r\n",
    "if team_1_score < team_2_score:\r\n",
    "    print(team_2, \"beat\", team_2, \"by\", team_2_score - team_1_score)\r\n",
    "elif team_1_score > team_2_score:\r\n",
    "    print(team_1, \"beat\", team_1, \"by\", team_1_score - team_2_score)\r\n",
    "else :\r\n",
    "    print (team_1, \"played\", team_2, \"and it was a tie\")"
   ],
   "outputs": [
    {
     "output_type": "stream",
     "name": "stdout",
     "text": [
      "equipe_1 played equipe_2 and it was a tie\n"
     ]
    }
   ],
   "metadata": {
    "slideshow": {
     "slide_type": "notes"
    }
   }
  },
  {
   "cell_type": "code",
   "execution_count": null,
   "source": [
    "if (team_1_score == team_2_score):\r\n",
    "    print()\r\n",
    "elif team_1_score > team_2_score:\r\n",
    "    print(f'{team_1} ffdfg {team_2}')"
   ],
   "outputs": [],
   "metadata": {}
  },
  {
   "cell_type": "code",
   "execution_count": null,
   "source": [
    "team_1 = \"equipe_1\"\r\n",
    "team_2 = \"equipe_2\"\r\n",
    "team_1_score = int(input(\"score 1 ?\"))\r\n",
    "team_2_score = int(input(\"score 2 ?\"))\r\n",
    "if team_1_score < team_2_score:\r\n",
    "    print(team_2, \"beat\", team_2, \"by\", team_2_score - team_1_score)\r\n",
    "elif team_1_score > team_2_score:\r\n",
    "    print(team_1, \"beat\", team_1, \"by\", team_1_score - team_2_score)\r\n",
    "else :\r\n",
    "    print (team_1, \"played\", team_2, \"and it was a tie\")"
   ],
   "outputs": [],
   "metadata": {
    "slideshow": {
     "slide_type": "notes"
    }
   }
  },
  {
   "cell_type": "markdown",
   "source": [
    "**Exercice 16:**\n",
    "    \n",
    "L'Indice de Masse Corporelle (IMC) permet d'estimer le poids idéal en fonction de la taille. Son calcul correspond au poids en kilogrammes divisé par le carré de la taille en mètre (IMC = poids en kg/taille² en m). Le chiffre obtenu permet d'estimer la corpulence et éventuellement le surpoids ou l'obésité chez l'adulte, homme ou femme.\n",
    "L'interprétation de l'IMC pour les personnes de 16 ans et plus est la suivante :\n",
    "* Moins de 18.5: Underweight\n",
    "* Entre 18.5 et 24.9: Normal\n",
    "* Entre 25.0 et 29.9: Overweight\n",
    "* Plus que 30.0: Obese\n",
    "\n",
    "Ecrire un programme qui permet de saisir un poids en *pounds* et une taille en *inches*, de calculer et d'afficher l'IMC à deux valeurs après la virgule, et d'afficher l'interprétation la plus adéquate. Notez qu'un *pound* équivaut à 0,45359237 kilogrammes et qu'un *inch* équivaut à 0,0254 mètre.  \n",
    "\n",
    "**Astuce :** Pour afficher deux valeurs après la virgule, utilisez la fonction **format(nom_variable, \".2f\")**. Exemple : **print('La moyenne est :', format(moyenne, \".2f\"))**"
   ],
   "metadata": {
    "slideshow": {
     "slide_type": "slide"
    }
   }
  },
  {
   "cell_type": "code",
   "execution_count": null,
   "source": [
    "if imc <18,5"
   ],
   "outputs": [],
   "metadata": {
    "slideshow": {
     "slide_type": "notes"
    }
   }
  },
  {
   "cell_type": "markdown",
   "source": [
    "**Exercice 17:**\n",
    "\n",
    "Ecrire un programme qui affiche un triangle d'étoiles de taille donnée, par exemple si on entre 6, le programme affiche:\n",
    "```\n",
    "*\n",
    "**\n",
    "***\n",
    "****\n",
    "*****\n",
    "******\n",
    "```"
   ],
   "metadata": {}
  },
  {
   "cell_type": "code",
   "execution_count": null,
   "source": [],
   "outputs": [],
   "metadata": {
    "tags": []
   }
  },
  {
   "cell_type": "markdown",
   "source": [
    "**Exercice 18:**\n",
    "\n",
    "Même exercice mais cette fois la sortie est\n",
    "```\n",
    "     *\n",
    "    **         \n",
    "   ***\n",
    "  ****\n",
    " *****\n",
    "******\n",
    "```"
   ],
   "metadata": {}
  },
  {
   "cell_type": "code",
   "execution_count": null,
   "source": [],
   "outputs": [],
   "metadata": {
    "tags": []
   }
  },
  {
   "cell_type": "markdown",
   "source": [
    "**Exercice 19:**\n",
    "\n",
    "Ecrire un programme qui calcule, étant donné un entier *n* rentré par l'utilisateur, la plus grande puissance de *n* inférieure à un million."
   ],
   "metadata": {}
  },
  {
   "cell_type": "code",
   "execution_count": null,
   "source": [],
   "outputs": [],
   "metadata": {
    "tags": []
   }
  },
  {
   "cell_type": "code",
   "execution_count": null,
   "source": [],
   "outputs": [],
   "metadata": {}
  },
  {
   "cell_type": "code",
   "execution_count": null,
   "source": [],
   "outputs": [],
   "metadata": {}
  },
  {
   "cell_type": "code",
   "execution_count": null,
   "source": [],
   "outputs": [],
   "metadata": {}
  },
  {
   "cell_type": "code",
   "execution_count": null,
   "source": [],
   "outputs": [],
   "metadata": {}
  },
  {
   "cell_type": "code",
   "execution_count": 137,
   "source": [
    "nb_1 = int(input(\"Saisir un nombre quelconque n\"))\r\n",
    "nb_2 = int(input(\"Saisir un deuxième nombre quelconque n\"))\r\n",
    "if nb_1 * nb_2 > 0:\r\n",
    "    print(\"+\")\r\n",
    "elif nb_1 * nb_2 < 0:\r\n",
    "    print(\"-\")\r\n",
    "else :\r\n",
    "    print(\"nul\")\r\n"
   ],
   "outputs": [
    {
     "output_type": "stream",
     "name": "stdout",
     "text": [
      "nul\n"
     ]
    }
   ],
   "metadata": {}
  },
  {
   "cell_type": "code",
   "execution_count": 136,
   "source": [
    "nb_1 = int(input(\"Saisir un nombre quelconque n\"))\r\n",
    "nb_2 = int(input(\"Saisir un deuxième nombre quelconque n\"))\r\n",
    "if nb_1 * nb_2 > 0:\r\n",
    "    print(\"Le produit des 2 nombres est positif\")\r\n",
    "elif nb_1 * nb_2 < 0:\r\n",
    "    print(\"Le produit des 2 nombres est négatif\")\r\n",
    "else :\r\n",
    "    print(\"Le produit des 2 nombres est nul\")\r\n"
   ],
   "outputs": [
    {
     "output_type": "stream",
     "name": "stdout",
     "text": [
      "Le produit des 2 nombres est nul\n"
     ]
    }
   ],
   "metadata": {}
  },
  {
   "cell_type": "code",
   "execution_count": 140,
   "source": [
    "import random\r\n",
    "n = int(input(\"Saisir un nombre entier n\"))\r\n",
    "result = 0\r\n",
    "val_max = 0\r\n",
    "for i in range(n):\r\n",
    "    nb = random.randint(100,999)\r\n",
    "    result += nb\r\n",
    "    if val_max < nb:\r\n",
    "        val_max = nb\r\n",
    "print(\"La moyenne est\", result/n, \"et la valeur maximum est\", val_max)\r\n"
   ],
   "outputs": [
    {
     "output_type": "stream",
     "name": "stdout",
     "text": [
      "La moyenne est 587.4 et la valeur maximum est 878\n"
     ]
    }
   ],
   "metadata": {}
  },
  {
   "cell_type": "code",
   "execution_count": null,
   "source": [],
   "outputs": [],
   "metadata": {}
  }
 ],
 "metadata": {
  "celltoolbar": "Diaporama",
  "kernelspec": {
   "name": "python3",
   "display_name": "Python 3.9.7 64-bit ('l1-python': conda)"
  },
  "language_info": {
   "codemirror_mode": {
    "name": "ipython",
    "version": 3
   },
   "file_extension": ".py",
   "mimetype": "text/x-python",
   "name": "python",
   "nbconvert_exporter": "python",
   "pygments_lexer": "ipython3",
   "version": "3.9.7"
  },
  "interpreter": {
   "hash": "841f3fadb3bd1d897bdf4e67d55d6cea1c9ae39ed62fa2f67dc1ee7b03834a24"
  }
 },
 "nbformat": 4,
 "nbformat_minor": 4
}