{
 "cells": [
  {
   "cell_type": "markdown",
   "metadata": {},
   "source": [
    "# Petit Photoshop"
   ]
  },
  {
   "cell_type": "markdown",
   "metadata": {},
   "source": [
    "Importer les librairies suivantes :"
   ]
  },
  {
   "cell_type": "code",
   "execution_count": 1,
   "metadata": {},
   "outputs": [],
   "source": [
    "import tkinter as tk\n",
    "import PIL as pil\n",
    "from PIL import Image\n",
    "from PIL import ImageTk \n",
    "from tkinter import filedialog\n",
    "from tkinter import simpledialog"
   ]
  },
  {
   "cell_type": "markdown",
   "metadata": {},
   "source": [
    "Ajouter une fonction `nbrCol(matrice)` qui retourne le nombre de colonnes d'une matrice \n",
    "et une fonction `nbrLig(matrice)` qui retourne le nombre de lignes d'une matrice"
   ]
  },
  {
   "cell_type": "code",
   "execution_count": 2,
   "metadata": {},
   "outputs": [],
   "source": [
    "def nbrCol(matrice):\n",
    "    return(len(matrice[0]))\n",
    "\n",
    "def nbrLig(matrice):\n",
    "    return len(matrice)"
   ]
  },
  {
   "cell_type": "markdown",
   "metadata": {},
   "source": [
    "Ajouter la fonction suivante à votre code, on ne demande pas de la comprendre en détail.\n",
    "Elle permet de stocker la matrice de pixels passée en paramètre `matPix` dans un fichier spécifié par `filename`."
   ]
  },
  {
   "cell_type": "code",
   "execution_count": 3,
   "metadata": {},
   "outputs": [],
   "source": [
    "def saving(matPix, filename):\n",
    "    toSave=pil.Image.new(\"RGBA\",(nbrCol(matPix),nbrLig(matPix)))\n",
    "    for i in range(nbrCol(matPix)):\n",
    "        for j in range(nbrLig(matPix)):\n",
    "            toSave.putpixel((i,j),matPix[j][i])\n",
    "    toSave.save(filename)"
   ]
  },
  {
   "cell_type": "markdown",
   "metadata": {},
   "source": [
    "Ajouter la fonction `loading` à votre code. Là non plus on ne demande pas de comprendre la fonction en détail.\n",
    "Elle prend une image en entrée et retourne une matrice de pixels."
   ]
  },
  {
   "cell_type": "code",
   "execution_count": 4,
   "metadata": {},
   "outputs": [],
   "source": [
    "def loading(filename):\n",
    "    toLoad=pil.Image.open(filename)\n",
    "    mat=[[(255,255,255,255)]*toLoad.size[0] for k in range(toLoad.size[1])]\n",
    "    for i in range(toLoad.size[1]):\n",
    "        for j in range(toLoad.size[0]):\n",
    "            mat[i][j]=toLoad.getpixel((j,i))\n",
    "    return mat"
   ]
  },
  {
   "cell_type": "markdown",
   "metadata": {},
   "source": [
    "Ajouter la fonction `charger` qui permet d'afficher une image dans un canevas dans la colonne 1 d'une grid."
   ]
  },
  {
   "cell_type": "code",
   "execution_count": 5,
   "metadata": {},
   "outputs": [],
   "source": [
    "create=True\n",
    "nomImgCourante=\"\"\n",
    "nomImgDebut = \"\"\n",
    "\n",
    "def charger(widg):\n",
    "    global create\n",
    "    global photo\n",
    "    global img\n",
    "    global canvas\n",
    "    global dessin\n",
    "    global nomImgCourante\n",
    "    global nomImgDebut\n",
    "    filename= filedialog.askopenfile(mode='rb', title='Choose a file')\n",
    "    img = pil.Image.open(filename)\n",
    "    nomImgCourante=filename.name\n",
    "    nomImgDebut = filename.name\n",
    "    photo = ImageTk.PhotoImage(img)\n",
    "    if create:    \n",
    "        canvas = tk.Canvas(widg, width = img.size[0], height = img.size[1])\n",
    "        dessin = canvas.create_image(0,0,anchor = tk.NW, image=photo)\n",
    "        canvas.grid(row=0,column=1,rowspan=4,columnspan=2)\n",
    "        create=False\n",
    "        \n",
    "    else:\n",
    "        canvas.grid_forget()\n",
    "        canvas = tk.Canvas(widg, width = img.size[0], height = img.size[1])\n",
    "        dessin=canvas.create_image(0,0,anchor = tk.NW, image=photo)\n",
    "        canvas.grid(row=0,column=1,rowspan=4,columnspan=2)\n"
   ]
  },
  {
   "cell_type": "markdown",
   "metadata": {},
   "source": [
    "Ajouter la fonction `modify(matrice)` qui permet de modifier une matrice de pixels au sein même d'un canevas créé par la methode `charger()`, et la fonction callback `reaffiche` qui permet de réafficher l'image de départ après lui avoir appliqué des effets."
   ]
  },
  {
   "cell_type": "code",
   "execution_count": 6,
   "metadata": {},
   "outputs": [],
   "source": [
    "def modify(matrice):\n",
    "    global imgModif\n",
    "    global nomImgCourante\n",
    "    saving(matrice,\"modif.png\")\n",
    "    imgModif=ImageTk.PhotoImage(file=\"modif.png\")\n",
    "    canvas.itemconfigure(dessin, image=imgModif)\n",
    "    nomImgCourante=\"modif.png\"\n",
    "\n",
    "def reaffiche():\n",
    "    global imgDebut\n",
    "    global nomImgCourante\n",
    "    if not create :\n",
    "        imgDebut=ImageTk.PhotoImage(file=nomImgDebut)\n",
    "        canvas.itemconfigure(dessin, image=imgDebut)\n",
    "        nomImgCourante = nomImgDebut\n",
    "    "
   ]
  },
  {
   "cell_type": "markdown",
   "metadata": {},
   "source": [
    "Créez une fenêtre tkinter appelée \"Mon Petit Photoshop\", dans laquelle vous mettrez un bouton pour chacune des fonctions de traitement d'image que vous allez écrire. Vous mettrez égalment un bouton pour *charger* une image, un bouton pour *quitter la fenêtre* et un bouton pour *revenir à l'image de départ* en utilisant la fonction callback `reaffiche`. Vous ajouterez également un label contenant votre nom, prénom et numéro d'étudiant. Vous pourrez ajouter un bouton pour sauvegarder l'image, éventuellement sous un nouveau nom. ATTENTION : L'image est placée grâce à la méthode `grid` et elle couvre les colonnes 1 et 2 et les lignes 0,1,2 et 3."
   ]
  },
  {
   "cell_type": "markdown",
   "metadata": {},
   "source": [
    "Mise en Page \n",
    "1. Vous placerez les boutons pour les fonctions de traitement d'image dans la colonne 0 d'une grid respectivement\n",
    "    aux lignes 0,1,2\n",
    "1. Le bouton `Retour` (pour revenir à l'image de départ) sera placé dans la colonne 0 à l'avant dernière ligne\n",
    "1. Le bouton `Charger` sera placé dans la colonne 0 dans la dernière ligne\n",
    "1. Le bouton `Quitter` sera placé dans la dernière colonne et la dernière ligne\n",
    "1. Le label sera placé juste sous l'image, entre les boutons `Charger` et `Quitter`\n",
    " \n",
    "Si tout fonctionne, regardez la doc tkinter pour rendre ça un peu plus \"joli\"."
   ]
  },
  {
   "cell_type": "code",
   "execution_count": 21,
   "metadata": {},
   "outputs": [
    {
     "name": "stderr",
     "output_type": "stream",
     "text": [
      "Exception in Tkinter callback\n",
      "Traceback (most recent call last):\n",
      "  File \"C:\\Users\\Eleve\\miniconda3\\envs\\l1-python\\lib\\tkinter\\__init__.py\", line 1892, in __call__\n",
      "    return self.func(*args)\n",
      "  File \"C:\\Users\\Eleve\\AppData\\Local\\Temp/ipykernel_8728/2916206748.py\", line 151, in flou\n",
      "    mat[i][j] = (sum(r_moy)//len(r_moy), sum(g_moy)//len(g_moy), sum(b_moy)//len(b_moy, 255))\n",
      "TypeError: len() takes exactly one argument (2 given)\n",
      "Exception in Tkinter callback\n",
      "Traceback (most recent call last):\n",
      "  File \"C:\\Users\\Eleve\\miniconda3\\envs\\l1-python\\lib\\tkinter\\__init__.py\", line 1892, in __call__\n",
      "    return self.func(*args)\n",
      "  File \"C:\\Users\\Eleve\\AppData\\Local\\Temp/ipykernel_8728/2916206748.py\", line 151, in flou\n",
      "    mat[i][j] = (sum(r_moy)//len(r_moy), sum(g_moy)//len(g_moy), sum(b_moy)//len(b_moy, 255))\n",
      "TypeError: len() takes exactly one argument (2 given)\n"
     ]
    }
   ],
   "source": [
    "create=True\n",
    "#Fonctions auxiliaires \n",
    "    \n",
    "fenetre = tk.Tk()\n",
    "\n",
    "def fermer_fenetre():\n",
    "    fenetre.destroy()\n",
    "\n",
    "def filtre_vert():\n",
    "    mat=loading(nomImgCourante)\n",
    "    for i in range(nbrLig(mat)):\n",
    "        for j in range(nbrCol(mat)):\n",
    "            mat[i][j]=(0,mat[i][j][1],0,255)\n",
    "    modify(mat)\n",
    "\n",
    "def negatif():\n",
    "    mat=loading(nomImgCourante)\n",
    "    for i in range(nbrLig(mat)):\n",
    "        for j in range(nbrCol(mat)):\n",
    "            mat[i][j]=(255-mat[i][j][0],255-mat[i][j][1],255-mat[i][j][2],255)\n",
    "    modify(mat)\n",
    "\n",
    "def symetrique():\n",
    "    mat=loading(nomImgCourante)\n",
    "    matSym=[[(0,0,0,0)]*nbrCol(mat) for k in range(nbrLig(mat))]\n",
    "    for i in range(nbrLig(mat)):\n",
    "        for j in range(nbrCol(mat)):\n",
    "            matSym[i][nbrCol(mat)-1-j]=mat[i][j]\n",
    "    for i in range(nbrLig(mat)):\n",
    "        for j in range(nbrCol(mat)):\n",
    "            mat[i][j]=matSym[i][j]\n",
    "    modify(mat)\n",
    "    \n",
    "def gris():\n",
    "    #On utilisera la conversion CIE709 qui permet de calculer la teinte de gris qui va être affichée dans le pixel\n",
    "    #La teinte affichée est : gris=0,2125*rouge + 0,0721*bleu + 0,7154*vert\n",
    "    mat=loading(nomImgCourante)\n",
    "    for i in range(nbrLig(mat)):\n",
    "        for j in range(nbrCol(mat)):\n",
    "            gris = int(0.2125*mat[i][j][0] + 0.0721*mat[i][j][1] + 0.7121*mat[i][j][2])\n",
    "            mat[i][j] = (gris, gris, gris, 255)\n",
    "    modify(mat)\n",
    "\n",
    "def noirBlanc():\n",
    "    mat=loading(nomImgCourante)\n",
    "    for i in range(nbrLig(mat)):\n",
    "        for j in range(nbrCol(mat)):\n",
    "            luminosité = int((mat[i][j][0] + mat[i][j][1] + mat[i][j][2])/3)\n",
    "            if luminosité > 127 :\n",
    "                mat[i][j] = (255, 255, 255, 255)\n",
    "            else :\n",
    "                mat[i][j] = (0, 0, 0, 255)\n",
    "            # un pixel est blanc quand sa luminosité est > à 127, noir sinon\n",
    "    modify(mat)\n",
    "\n",
    "def zoom():\n",
    "    mat=loading(nomImgCourante)\n",
    "    #créer une matrice de largeur et hauteur deux fois plus grande \n",
    "    mat_res = [[(0,0,0,0)]*nbrCol(mat)*2 for i in range (2*nbrLig(mat))]\n",
    "    for i in range(nbrLig(mat)):\n",
    "        for j in range(nbrCol(mat)):\n",
    "            for k in range(2):\n",
    "                for l in range(2):\n",
    "                    mat_res[i*2+k][j*2+l] = mat[i][j]\n",
    "    modify(mat_res)\n",
    "\n",
    "#OU\n",
    "#for i in range(nbrLig(mat)):\n",
    "    #temp = []\n",
    "    #for j in range(nbrCol(mat)):\n",
    "        #temp.append(mat[i][j])\n",
    "        #temp.append(mat[][j])\n",
    "    #mat_res.append(temp)\n",
    "    #mat_res.append(temp)\n",
    "\n",
    "def shrink():\n",
    "    mat=loading(nomImgCourante)\n",
    "    nb_l = nbrLig(mat)\n",
    "    nb_c = nbrCol(mat)\n",
    "    #créer une matrice de largeur et hauteur deux fois plus petite \n",
    "    mat_res = [[(0,0,0,0)]*((nb_c+1)//2) for i in range ((nb_l+1)//2)]\n",
    "    for i in range(nbrLig(mat_res)):\n",
    "        for j in range(nbrCol(mat_res)):\n",
    "            r = 0\n",
    "            g = 0\n",
    "            b = 0\n",
    "            for k in range(2):\n",
    "                if 2*i+k < nb_l:\n",
    "                    for l in range(2):\n",
    "                        if 2*j+l < nb_c:\n",
    "                            r += mat[2*i+k][2*j+l][0]\n",
    "                            g += mat[2*i+k][2*j+l][1]\n",
    "                            b += mat[2*i+k][2*j+l][2]\n",
    "            mat_res[i][j] = (r//4, g//4, b//4, 255)\n",
    "    modify(mat_res)\n",
    "\n",
    "def poster():\n",
    "    shrink()\n",
    "    zoom()\n",
    "\n",
    "def rotate_right():\n",
    "    mat=loading(nomImgCourante)\n",
    "    mat_res = [[(0,0,0,0)]*nbrLig(mat) for i in range(nbrCol(mat))]\n",
    "    for i in range(nbrLig(mat_res)):\n",
    "        for j in range(nbrCol(mat_res)):\n",
    "            mat_res[i][j] = mat[nbrLig(mat)-1-j][i]\n",
    "    modify(mat_res)\n",
    "\n",
    "def rotate_left():\n",
    "    mat=loading(nomImgCourante)\n",
    "    mat_res = [[(0,0,0,0)]*nbrLig(mat) for i in range(nbrCol(mat))]\n",
    "    for i in range(nbrCol(mat)):\n",
    "        for j in range(nbrLig(mat)):\n",
    "            mat_res[i][j] = mat[j][nbrCol(mat)-1-i]\n",
    "    modify(mat_res)\n",
    "\n",
    "def modif_lum(val):\n",
    "    mat = loading(nomImgCourante)\n",
    "    #mat_res = [[(0,0,0,0)]*nbrLig(mat) for i in range(nbrCol(mat))]\n",
    "    for i in range(nbrLig(mat)):\n",
    "        for j in range(nbrCol(mat)):\n",
    "            mat[i][j] = (mat[i][j][0]+val, mat[i][j][1]+val, mat[i][j][2]+val, 255)\n",
    "    modify(mat)\n",
    "\n",
    "def flou():\n",
    "    mat=loading(nomImgCourante)\n",
    "    nb_l = nbrLig(mat)\n",
    "    nb_c = nbrCol(mat)\n",
    "    for i in range(nb_l):\n",
    "        for j in range(nb_c):\n",
    "            r_moy = [mat[i][j][0]]\n",
    "            g_moy = [mat[i][j][1]]\n",
    "            b_moy = [mat[i][j][2]]\n",
    "            for k in range (1,5):\n",
    "                if i-k >= 0:\n",
    "                    r_moy.append(mat[i-k][j][0])\n",
    "                    g_moy.append(mat[i-k][j][1])\n",
    "                    b_moy.append(mat[i-k][j][2])\n",
    "                if i+k < nb_l:\n",
    "                    r_moy.append(mat[i+k][j][0])\n",
    "                    g_moy.append(mat[i+k][j][1])\n",
    "                    b_moy.append(mat[i+k][j][2])\n",
    "                if j-k >= 0:\n",
    "                    r_moy.append(mat[i][j-k][0])\n",
    "                    g_moy.append(mat[i][j-k][1])\n",
    "                    b_moy.append(mat[i][j-k][2])\n",
    "                if j+k < nb_c:\n",
    "                    r_moy.append(mat[i][j+k][0])\n",
    "                    g_moy.append(mat[i][j+k][1])\n",
    "                    b_moy.append(mat[i][j+k][2])\n",
    "            mat[i][j] = (sum(r_moy)//len(r_moy), sum(g_moy)//len(g_moy), sum(b_moy)//len(b_moy, 255))\n",
    "    modify(mat)\n",
    "\n",
    "#Création des Widgets\n",
    "fenetre.title(\"Mon Petit Photoshop\")\n",
    "label = tk.Label(fenetre, text=\"LEFEVRE, Laura, 22100620\")\n",
    "\n",
    "b_filtre_vert = tk.Button(fenetre, text='Filtre vert', command= filtre_vert)\n",
    "\n",
    "b_retour = tk.Button(fenetre, text = 'Retour', command = reaffiche)\n",
    "\n",
    "b_charger = tk.Button(fenetre, text = 'Charger', command = lambda : charger(fenetre))\n",
    "\n",
    "b_quitter = tk.Button(fenetre, text = 'Quitter', command = fermer_fenetre)\n",
    "\n",
    "b_negatif = tk.Button(fenetre, text = 'Negatif', command = negatif)\n",
    "\n",
    "b_symetric = tk.Button(fenetre, text = 'Symétrie', command = symetrique)\n",
    "\n",
    "b_gris = tk.Button(fenetre, text = 'Niveau de gris', command = gris)\n",
    "\n",
    "b_blackandwhite = tk.Button(fenetre, text = 'BlackAndWhite', command = noirBlanc)\n",
    "\n",
    "b_zoom = tk.Button(fenetre, text = 'zoom', command = zoom)\n",
    "\n",
    "b_dezoom = tk.Button(fenetre, text='dezoom', command = shrink)\n",
    "\n",
    "b_poster = tk.Button(fenetre, text='Poster', command = poster)\n",
    "\n",
    "b_rotate_right = tk.Button(fenetre, text='Rotate right', command = rotate_right)\n",
    "\n",
    "b_rotate_left = tk.Button(fenetre, text='Rotate left', command = rotate_left)\n",
    "\n",
    "slider = tk.Scale(fenetre, from_=-255, to_=255)\n",
    "b_slider = tk.Button(fenetre, text='luminosite', command = lambda: modif_lum(slider.get()))\n",
    "\n",
    "b_flou = tk.Button(fenetre, text='Flou', command=flou)\n",
    "\n",
    "#Positionnement des Widgets\n",
    "label.grid(column = 2, row = 7)\n",
    "\n",
    "b_filtre_vert.grid(column = 0, row = 0)\n",
    "\n",
    "b_negatif.grid(column = 0, row = 1)\n",
    "\n",
    "b_symetric.grid(column = 0, row = 2)\n",
    "\n",
    "b_retour.grid(column = 0, row = 6)\n",
    "\n",
    "b_charger.grid(column = 1, row = 7)\n",
    "\n",
    "b_quitter.grid(column = 3, row = 7)\n",
    "\n",
    "b_gris.grid(column=0, row = 3)\n",
    "\n",
    "b_blackandwhite.grid(column = 0, row=4)\n",
    "\n",
    "b_zoom.grid(column = 0, row = 5)\n",
    "\n",
    "b_dezoom.grid(column = 0, row = 7)\n",
    "\n",
    "b_poster.grid(column = 4, row = 1)\n",
    "\n",
    "b_rotate_right.grid(column = 4, row = 2)\n",
    "\n",
    "b_rotate_left.grid(column = 4, row = 3)\n",
    "\n",
    "slider.grid(column = 4, row = 4)\n",
    "\n",
    "b_slider.grid(column = 4, row = 5)\n",
    "\n",
    "b_flou.grid(column = 4, row = 0)\n",
    "\n",
    "#Lancement de la boucle \n",
    "fenetre.mainloop()"
   ]
  },
  {
   "cell_type": "markdown",
   "metadata": {},
   "source": [
    "Modifiez les fonctions du TD précédent pour qu'elles deviennent des fonctions callback qui s'appliquent directement sur l'image dans le canevas."
   ]
  },
  {
   "cell_type": "code",
   "execution_count": 7,
   "metadata": {},
   "outputs": [],
   "source": [
    "def filtre_vert():\n",
    "    mat=loading(nomImgCourante)\n",
    "    for i in range(nbrLig(mat)):\n",
    "        for j in range(nbrCol(mat)):\n",
    "            mat[i][j]=(0,mat[i][j][1],0,255)\n",
    "    modify(mat)\n",
    "            \n",
    "def negatif():\n",
    "    mat=loading(nomImgCourante)\n",
    "    for i in range(nbrLig(mat)):\n",
    "        for j in range(nbrCol(mat)):\n",
    "            mat[i][j]=(255-mat[i][j][0],255-mat[i][j][1],255-mat[i][j][2],255)\n",
    "    modify(mat)\n",
    "            \n",
    "def symetrique():\n",
    "    mat=loading(nomImgCourante)\n",
    "    matSym=[[(0,0,0,0)]*nbrCol(mat) for k in range(nbrLig(mat))]\n",
    "    for i in range(nbrLig(mat)):\n",
    "        for j in range(nbrCol(mat)):\n",
    "            matSym[i][nbrCol(mat)-1-j]=mat[i][j]\n",
    "    for i in range(nbrLig(mat)):\n",
    "        for j in range(nbrCol(mat)):\n",
    "            mat[i][j]=matSym[i][j]\n",
    "    modify(mat)"
   ]
  },
  {
   "cell_type": "markdown",
   "metadata": {},
   "source": [
    "Faire une fonction qui permet de transformer une image en couleur en une image en niveau de gris."
   ]
  },
  {
   "cell_type": "code",
   "execution_count": 8,
   "metadata": {},
   "outputs": [],
   "source": [
    "#Image en couleur => image en niveau de gris\n",
    "\n",
    "#Pour un pixel :\n",
    "#   - chaque composante R,G,B a la même valeur\n",
    "#   - cette valeur correspond à une proportion des valeurs des composantes R,G,B\n",
    "# Par exemple : norme CIE709 -> 0,2125xR + 0,072xB + 0,7154xG\n",
    "\n",
    "# luminosité d'un pixel = moyenne des trois composantes R,G,B"
   ]
  },
  {
   "cell_type": "code",
   "execution_count": 9,
   "metadata": {},
   "outputs": [
    {
     "ename": "IndentationError",
     "evalue": "expected an indented block (Temp/ipykernel_8728/1166345872.py, line 7)",
     "output_type": "error",
     "traceback": [
      "\u001b[1;36m  File \u001b[1;32m\"C:\\Users\\Eleve\\AppData\\Local\\Temp/ipykernel_8728/1166345872.py\"\u001b[1;36m, line \u001b[1;32m7\u001b[0m\n\u001b[1;33m    pass\u001b[0m\n\u001b[1;37m    ^\u001b[0m\n\u001b[1;31mIndentationError\u001b[0m\u001b[1;31m:\u001b[0m expected an indented block\n"
     ]
    }
   ],
   "source": [
    "def gris():\n",
    "    #On utilisera la conversion CIE709 qui permet de calculer la teinte de gris qui va être affichée dans le pixel\n",
    "    #La teinte affichée est : gris=0,2125*rouge + 0,0721*bleu + 0,7154*vert\n",
    "    mat=loading(nomImgCourante)\n",
    "    for i in range(nbrLig(mat)):\n",
    "        for j in range(nbrCol(mat)):\n",
    "        pass\n",
    "            # calcul de la teinte de gris du pixel (CIE709)\n",
    "    modify(mat)\n"
   ]
  },
  {
   "cell_type": "markdown",
   "metadata": {},
   "source": [
    "Faire une fonction qui permet de transformer une image en couleur en une image en noir et blanc."
   ]
  },
  {
   "cell_type": "code",
   "execution_count": null,
   "metadata": {},
   "outputs": [],
   "source": [
    "def noirBlanc():\n",
    "    mat=loading(nomImgCourante)\n",
    "    for i in range(nbrLig(mat)):\n",
    "        for j in range(nbrCol(mat)):\n",
    "            luminosité = int((mat[i][j][0] + mat[i][j][1] + mat[i][j][2])/3)\n",
    "            if luminosité > 127 :\n",
    "                mat[i][j] = (255, 255, 255, 255)\n",
    "            else :\n",
    "                mat[i][j] = (0, 0, 0, 255)\n",
    "            # un pixel est blanc quand sa luminosité est > à 127, noir sinon\n",
    "    modify(mat)"
   ]
  },
  {
   "cell_type": "markdown",
   "metadata": {},
   "source": [
    "Donner une fonction qui multiplie par 4 la définition d'une image (chaque pixel donne un carré de 4 pixels)."
   ]
  },
  {
   "cell_type": "code",
   "execution_count": null,
   "metadata": {},
   "outputs": [],
   "source": [
    "def zoom():\n",
    "    mat=loading(nomImgCourante)\n",
    "    #créer une matrice de largeur et hauteur deux fois plus grande \n",
    "    for i in range(nbrLig(mat)):\n",
    "        for j in range(nbrCol(mat)):\n",
    "            mat.insert(mat[i+1][j], mat[i][j])\n",
    "            mat.insert(mat[i][j+1], mat[i][j])\n",
    "            mat.insert(mat[i+1][j+1], mat[i][j])\n",
    "    modify(mat)"
   ]
  },
  {
   "cell_type": "markdown",
   "metadata": {},
   "source": [
    "Donner une fonction qui divise par 4 la définition d'une image. Chaque carré de 4 pixels est remplacé par 1 pixel dont la valeur est la moyenne de ces 4 pixels."
   ]
  },
  {
   "cell_type": "code",
   "execution_count": null,
   "metadata": {},
   "outputs": [],
   "source": [
    "def shrink():\n",
    "    mat=loading(nomImgCourante)\n",
    "    #créer une matrice de largeur et hauteur deux fois plus petite \n",
    "    for i in range(nbrLig(mat)):\n",
    "        for j in range(nbrCol(mat)):\n",
    "            pass\n",
    "    modify(mat)"
   ]
  },
  {
   "cell_type": "markdown",
   "metadata": {},
   "source": [
    "Combiner les fonctions `zoom` et `shrink` pour obtenir un effet poster (effet de perte de résolution)."
   ]
  },
  {
   "cell_type": "code",
   "execution_count": null,
   "metadata": {},
   "outputs": [],
   "source": [
    "def poster():\n",
    "    mat=loading(nomImgCourante)\n",
    "    modify(mat)"
   ]
  },
  {
   "cell_type": "markdown",
   "metadata": {},
   "source": [
    "Donner une fonction qui effectue une rotation d'une image vers la droite."
   ]
  },
  {
   "cell_type": "code",
   "execution_count": null,
   "metadata": {},
   "outputs": [],
   "source": [
    "def rotate():\n",
    "    mat=loading(nomImgCourante)\n",
    "    modify(mat)"
   ]
  },
  {
   "cell_type": "markdown",
   "metadata": {},
   "source": [
    "Voici quelques fonctions que vous pouvez implémenter si vous en avez le temps:\n",
    "1. modification de la luminosité d'une image (avec un slider pour la sélection)\n",
    "1. flou de l'image, chaque pixel est remplacé par la moyenne de ses voisins et de lui-même\n",
    "1. bruitage de l'image, chaque pixel est modifié par une valeur aléatoire\n",
    "1. implémenter une méthode de dithering pour obtenir une image en noir et blanc plus subtile (au lieu de prendre un seuil\n",
    "à 127, on tire aléaoirement la valeur du pixel avec une probabilité qui dépend de sa luminosité)\n",
    "1. mode stylo, qui permet avec la souris d'écrire des pixels noirs sur l'image "
   ]
  },
  {
   "cell_type": "markdown",
   "metadata": {},
   "source": []
  }
 ],
 "metadata": {
  "interpreter": {
   "hash": "df6bb47ff3635da9e32e0207634daac25daac2185705efed139fcef1e5bc6fc1"
  },
  "kernelspec": {
   "display_name": "Python 3.9.7 64-bit ('l1-python': conda)",
   "name": "python3"
  },
  "language_info": {
   "codemirror_mode": {
    "name": "ipython",
    "version": 3
   },
   "file_extension": ".py",
   "mimetype": "text/x-python",
   "name": "python",
   "nbconvert_exporter": "python",
   "pygments_lexer": "ipython3",
   "version": "3.9.7"
  }
 },
 "nbformat": 4,
 "nbformat_minor": 4
}
