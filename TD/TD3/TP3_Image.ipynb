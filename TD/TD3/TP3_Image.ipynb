{
 "cells": [
  {
   "cell_type": "markdown",
   "metadata": {},
   "source": [
    "# Questions de cours \n",
    "\n",
    "1.Qu'est-ce qu'un pixel ?\n",
    "\n",
    "2.Quel format de stockage utilise-t-on pour stocker un pixel ?\n",
    "\n",
    "3.Donner la suite de 0 et de 1 permettant de stocker une image de 2 fois 2 qui part du noir en haut à gauche\n",
    "et devient plus rouge en allant à doite et plus bleu en allant vers le bas."
   ]
  },
  {
   "cell_type": "markdown",
   "metadata": {},
   "source": [
    "1.Un pixel est un petit carré composant l'écran et qui afiche une couleur à la fois.\n",
    "Pixel : Carré de dimenson variable pour affcher une couleur à l'écran.\n",
    "\n",
    "2. Format pour la couleur d'un pixel :\n",
    "    - Si image en noir et blanc : Un seul bit (0 pour noir et 1 pour blanc)\n",
    "    - Si image en niveaux de gris : 4 ou 8 bits\n",
    "    - Si image en couleur : - (R, G, B) 24 bits (8 bits par couleur)\n",
    "                            - (R, G, B, A) 32 bits (8 bits par canal)   A = Transparence\n",
    "3. 000000 FF0000 0000FF FF00FF"
   ]
  },
  {
   "cell_type": "markdown",
   "metadata": {},
   "source": [
    "# Matrices"
   ]
  },
  {
   "cell_type": "markdown",
   "metadata": {},
   "source": [
    "Créer une matrice avec 3 lignes et 4 colonnes"
   ]
  },
  {
   "cell_type": "code",
   "execution_count": 92,
   "metadata": {},
   "outputs": [],
   "source": [
    "#définir la matrice sans utiliser de boucles\n",
    "mat = [[0,0,0,0],[0,0,0,0],[0,0,0,0]]\n",
    "\n",
    "mat1 = [[0]*4]*3\n",
    "mat2 = [[0 for i in range(4)] for j in range(3)]\n",
    "mat3 = [[0,0,0], [0,0,0], [0,0,0]]"
   ]
  },
  {
   "cell_type": "markdown",
   "metadata": {},
   "source": [
    "Faire une fonction `nbrCol(matrice)` qui retourne le nombre de colonnes d'une matrice \n",
    "et une fonction `nbrLig(matrice)` qui retourne le nombre de lignes d'une matrice"
   ]
  },
  {
   "cell_type": "code",
   "execution_count": 93,
   "metadata": {},
   "outputs": [],
   "source": [
    "def nbrCol(matrice):\n",
    "    '''Retourne le nombre de colonne d'une matrice'''\n",
    "    return len(matrice[0])\n",
    "\n",
    "def nbrLig(matrice):\n",
    "    '''Retourne le nombre de ligne d'une matrice'''\n",
    "    return len(matrice)\n"
   ]
  },
  {
   "cell_type": "code",
   "execution_count": 94,
   "metadata": {},
   "outputs": [
    {
     "data": {
      "text/plain": [
       "4"
      ]
     },
     "execution_count": 94,
     "metadata": {},
     "output_type": "execute_result"
    }
   ],
   "source": [
    "nbrCol(mat)"
   ]
  },
  {
   "cell_type": "code",
   "execution_count": 95,
   "metadata": {},
   "outputs": [
    {
     "data": {
      "text/plain": [
       "3"
      ]
     },
     "execution_count": 95,
     "metadata": {},
     "output_type": "execute_result"
    }
   ],
   "source": [
    "nbrLig(mat)"
   ]
  },
  {
   "cell_type": "markdown",
   "metadata": {},
   "source": [
    "Remplir `mat` de 9 en utilisant deux boucles sur les index de la matrice."
   ]
  },
  {
   "cell_type": "code",
   "execution_count": 97,
   "metadata": {},
   "outputs": [
    {
     "name": "stdout",
     "output_type": "stream",
     "text": [
      "[[9, 9, 9, 9], [9, 9, 9, 9], [9, 9, 9, 9]]\n"
     ]
    }
   ],
   "source": [
    "def rempli9(matrice):\n",
    "    for ligne in range(nbrLig(matrice)):\n",
    "        for colonne in range(nbrCol(matrice)):\n",
    "            matrice[ligne][colonne] = 9\n",
    "    return matrice\n",
    "        \n",
    "\n",
    "rempli9(mat)\n",
    "print(mat)"
   ]
  },
  {
   "cell_type": "code",
   "execution_count": null,
   "metadata": {},
   "outputs": [],
   "source": []
  },
  {
   "cell_type": "markdown",
   "metadata": {},
   "source": [
    "Maintenant, remplir la matrice de 8 en parcourant les lignes, puis une boucle avec un index sur chacune de ces lignes."
   ]
  },
  {
   "cell_type": "code",
   "execution_count": 98,
   "metadata": {},
   "outputs": [
    {
     "name": "stdout",
     "output_type": "stream",
     "text": [
      "[[8, 8, 8, 8], [8, 8, 8, 8], [8, 8, 8, 8]]\n"
     ]
    }
   ],
   "source": [
    "def rempli8(matrice):\n",
    "    for l in matrice:\n",
    "        for i in range(len(l)):\n",
    "            l[i] = 8\n",
    "    return matrice\n",
    "\n",
    "rempli8(mat)\n",
    "print(mat)"
   ]
  },
  {
   "cell_type": "markdown",
   "metadata": {},
   "source": [
    "Créer une matrice de taille 50x50 qui ne contient que des 3."
   ]
  },
  {
   "cell_type": "code",
   "execution_count": 99,
   "metadata": {},
   "outputs": [],
   "source": [
    "#Utiliser une boucle dans la définition de la matrice\n",
    "mat = [[3]*50 for k in range(50)]\n",
    "\n",
    "mat = []\n",
    "for i in range(50):\n",
    "    l = []\n",
    "    for j in range(50):\n",
    "        l.append(3)\n",
    "    mat.append(l)"
   ]
  },
  {
   "cell_type": "markdown",
   "metadata": {},
   "source": [
    "# Matrice de Pixels"
   ]
  },
  {
   "cell_type": "markdown",
   "metadata": {},
   "source": [
    "Importer les librairies suivantes :"
   ]
  },
  {
   "cell_type": "code",
   "execution_count": 100,
   "metadata": {},
   "outputs": [],
   "source": [
    "import tkinter as tk\n",
    "import PIL as pil\n",
    "from PIL import Image\n",
    "from PIL import ImageTk \n",
    "from tkinter import filedialog\n",
    "from tkinter import simpledialog"
   ]
  },
  {
   "cell_type": "markdown",
   "metadata": {},
   "source": [
    "Ajouter la fonction suivante à votre code, on ne demande pas de la comprendre en détail.\n",
    "Elle permet de stocker la matrice de pixels passée en paramètre `matPix` dans un fichier spécifié par `filename`."
   ]
  },
  {
   "cell_type": "code",
   "execution_count": 101,
   "metadata": {},
   "outputs": [],
   "source": [
    "def saving(matPix, filename):\n",
    "    toSave=pil.Image.new(\"RGBA\",(nbrCol(matPix),nbrLig(matPix)))\n",
    "    for i in range(nbrCol(matPix)):\n",
    "        for j in range(nbrLig(matPix)):\n",
    "            toSave.putpixel((i,j),matPix[j][i])\n",
    "    toSave.save(filename)"
   ]
  },
  {
   "cell_type": "markdown",
   "metadata": {},
   "source": [
    "Créer une matrice de pixels de taille 100x100 ainsi qu'une fonction qui met à vert les pixels à gauche de l'image et à bleu les pixels de la partie droite.\n",
    "Afin de visualiser l'image obtenue, on utilisera la fonction `saving` et on ouvrira le fichier ainsi généré."
   ]
  },
  {
   "cell_type": "code",
   "execution_count": 102,
   "metadata": {},
   "outputs": [],
   "source": [
    "#definir une nouvelle matrice 100x100\n",
    "matVB = [[0]*100 for k in range(100)]\n",
    "\n",
    "\n",
    "def rempliVB(matrice):\n",
    "    nb_lig = nbrLig(matrice)\n",
    "    for ligne in range(nb_lig):\n",
    "        for colonne in range(50):\n",
    "            matrice[ligne][colonne] = (0,255,0,255)\n",
    "    \n",
    "    for ligne in range(nb_lig):\n",
    "        for colonne in range(50, 100):\n",
    "            matrice[ligne][colonne] = (0, 0, 255, 255)\n",
    "    \n",
    "rempliVB(matVB)\n",
    "saving(matVB,\"vertbleu.png\")"
   ]
  },
  {
   "cell_type": "code",
   "execution_count": 104,
   "metadata": {},
   "outputs": [],
   "source": [
    "matVB = [[0,0,0,0]*100 for i in range(100)]\n",
    "\n",
    "def rempliVB(matrice):\n",
    "    nb_col = nbrCol(matrice)\n",
    "    for l in matrice :\n",
    "        for j in range(0, nb_col//2):\n",
    "            l[j] = (0,255,0,255)\n",
    "        for j in range(nb_col//2, nb_col):\n",
    "            l[j] = (0 ,0, 255, 255)\n",
    "\n"
   ]
  },
  {
   "cell_type": "markdown",
   "metadata": {},
   "source": [
    "Ajouter la fonction `loading` à votre code. Là non plus on ne demande pas de comprendre la fonction en détail.\n",
    "Elle prend une image en entrée et retourne une matrice de pixels."
   ]
  },
  {
   "cell_type": "code",
   "execution_count": 105,
   "metadata": {},
   "outputs": [],
   "source": [
    "def loading(filename):\n",
    "    toLoad=pil.Image.open(filename)\n",
    "    mat=[[(255,255,255,255)]*toLoad.size[0] for k in range(toLoad.size[1])]\n",
    "    for i in range(toLoad.size[1]):\n",
    "        for j in range(toLoad.size[0]):\n",
    "            mat[i][j]=toLoad.getpixel((j,i))\n",
    "    return mat"
   ]
  },
  {
   "cell_type": "markdown",
   "metadata": {},
   "source": [
    "En vous servant de la fonction 'loading', calculer le nombre de pixels dans une image `.bmp` de votre choix, puis calculer la taille de l'image en octets. Comparer avec la taille donnée par votre machine."
   ]
  },
  {
   "cell_type": "code",
   "execution_count": 106,
   "metadata": {},
   "outputs": [
    {
     "name": "stdout",
     "output_type": "stream",
     "text": [
      "1770000\n"
     ]
    }
   ],
   "source": [
    "#Nombre de pixel : définition del'image\n",
    "# taille de l'image (en bits) = nb de pixels x taille d'un pixel (32 bits ici)\n",
    "# 1 octet = 8 bits\n",
    "\n",
    "mat=loading(\"montgolfiere.bmp\")\n",
    "\n",
    "nb_pixel = nbrCol(mat) * nbrLig(mat)\n",
    "taille = nb_pixel * 4 \n",
    "#(nb_pixels*32)/8 on multiplie pa la taille d'un pixel (32 bits car il y a 4 cannaux) \n",
    "#et on divise par 8 pour avoir le résultat en octets (car 1 octet = 8 bits), \n",
    "#on peut aussi dire qu'on multiplie par 4, car il y a 4 canaux\n",
    "print(taille)"
   ]
  },
  {
   "cell_type": "markdown",
   "metadata": {},
   "source": [
    "A l'aide de la fonction `loading`, modifier une image en ajoutant un rectangle noir au milieu de l'image."
   ]
  },
  {
   "cell_type": "code",
   "execution_count": 107,
   "metadata": {},
   "outputs": [],
   "source": [
    "matrice=loading(\"vertbleu.png\")\n",
    "\n",
    "def ajouteCarreNoir(mat):\n",
    "    for ligne in range (30,70):\n",
    "        for colonne in range (30,70):\n",
    "            mat[ligne][colonne] = (0, 0, 0, 255)\n",
    "\n",
    "\n",
    "ajouteCarreNoir(matrice)\n",
    "saving(matrice,\"vertbleumodif.png\")"
   ]
  },
  {
   "cell_type": "code",
   "execution_count": 109,
   "metadata": {},
   "outputs": [],
   "source": [
    "def ajouteCarreNoir(mat):\n",
    "    nb_lignes = nbrLig(mat)\n",
    "    nb_col = nbrCol(mat)\n",
    "    for i in range (nb_lignes//3, 2*nb_lignes//3):\n",
    "        for j in range (nb_col//3, 2*nb_col//3):\n",
    "            mat[i][j] = (0,0,0,255)"
   ]
  },
  {
   "cell_type": "markdown",
   "metadata": {},
   "source": [
    "De la même manière ajouter un filtre qui ne conserve que la composante verte d'une image."
   ]
  },
  {
   "cell_type": "code",
   "execution_count": 110,
   "metadata": {},
   "outputs": [],
   "source": [
    "matrice=loading(\"tomate.png\")\n",
    "\n",
    "def filtre_vert(mat):\n",
    "    for ligne in range(nbrLig(mat)):\n",
    "        for colonne in range(nbrCol(mat)):\n",
    "            v = mat[ligne][colonne][1]\n",
    "            mat[ligne][colonne] = (0, v, 0, 255)\n",
    "filtre_vert(matrice)\n",
    "saving(matrice,\"tomateVert.png\")"
   ]
  },
  {
   "cell_type": "code",
   "execution_count": 111,
   "metadata": {},
   "outputs": [],
   "source": [
    "matrice = loading(\"tomate.png\")\n",
    "\n",
    "def filtre_vert(mat):\n",
    "    for i in range(nbrLig(mat)):\n",
    "        for j in range(nbrCol(mat)):\n",
    "            mat[i][j] = (0, mat[i][j][1], 0, 255)\n",
    "filtre_vert(matrice)\n",
    "saving(matrice, \"tomateVert.png\")"
   ]
  },
  {
   "cell_type": "markdown",
   "metadata": {},
   "source": [
    "Créer une méthode qui permet d'afficher le négatif de l'image (on inverse la luminosité)."
   ]
  },
  {
   "cell_type": "code",
   "execution_count": 113,
   "metadata": {},
   "outputs": [],
   "source": [
    "matrice=loading(\"tomate.png\")\n",
    "\n",
    "def negatif(mat):   \n",
    "    for i in range(nbrLig(mat)):\n",
    "        for j in range(nbrCol(mat)):\n",
    "            r = mat[i][j][0]\n",
    "            g = mat[i][j][1]\n",
    "            b = mat[i][j][2]\n",
    "            mat[i][j] = (255-r, 255-g, 255-b, 255)\n",
    "\n",
    "negatif(matrice)\n",
    "saving(matrice,\"tomateNeg.png\")"
   ]
  },
  {
   "cell_type": "code",
   "execution_count": 114,
   "metadata": {},
   "outputs": [],
   "source": [
    "matrice=loading(\"tomate.png\")\n",
    "\n",
    "def negatif(mat):\n",
    "    for i in range(nbrLig(mat)):\n",
    "        for j in range(nbrCol(mat)):\n",
    "            mat[i][j] = (255-mat[i][j][0], 255-mat[i][j][1], 255-mat[i][j][2], 255)\n",
    "negatif(matrice)\n",
    "saving(matrice, \"TomateNeg.png\")"
   ]
  },
  {
   "cell_type": "markdown",
   "metadata": {},
   "source": [
    "Créer une méthode qui permet d'afficher le symétrique de l'image par rapport à la droite verticale en son milieu."
   ]
  },
  {
   "cell_type": "code",
   "execution_count": 115,
   "metadata": {},
   "outputs": [
    {
     "ename": "TypeError",
     "evalue": "'list' object is not callable",
     "output_type": "error",
     "traceback": [
      "\u001b[1;31m---------------------------------------------------------------------------\u001b[0m",
      "\u001b[1;31mTypeError\u001b[0m                                 Traceback (most recent call last)",
      "\u001b[1;32m~\\AppData\\Local\\Temp/ipykernel_9992/3549471546.py\u001b[0m in \u001b[0;36m<module>\u001b[1;34m\u001b[0m\n\u001b[0;32m     14\u001b[0m \u001b[1;33m\u001b[0m\u001b[0m\n\u001b[0;32m     15\u001b[0m \u001b[1;33m\u001b[0m\u001b[0m\n\u001b[1;32m---> 16\u001b[1;33m \u001b[0msymetrique\u001b[0m\u001b[1;33m(\u001b[0m\u001b[0mmatrice\u001b[0m\u001b[1;33m)\u001b[0m\u001b[1;33m\u001b[0m\u001b[1;33m\u001b[0m\u001b[0m\n\u001b[0m\u001b[0;32m     17\u001b[0m \u001b[0msaving\u001b[0m\u001b[1;33m(\u001b[0m\u001b[0mmatrice\u001b[0m\u001b[1;33m,\u001b[0m\u001b[1;34m\"tomateSym.png\"\u001b[0m\u001b[1;33m)\u001b[0m\u001b[1;33m\u001b[0m\u001b[1;33m\u001b[0m\u001b[0m\n",
      "\u001b[1;32m~\\AppData\\Local\\Temp/ipykernel_9992/3549471546.py\u001b[0m in \u001b[0;36msymetrique\u001b[1;34m(mat)\u001b[0m\n\u001b[0;32m      8\u001b[0m     \u001b[1;32mfor\u001b[0m \u001b[0mi\u001b[0m \u001b[1;32min\u001b[0m \u001b[0mrange\u001b[0m\u001b[1;33m(\u001b[0m\u001b[0mnbrLig\u001b[0m\u001b[1;33m(\u001b[0m\u001b[0mmat\u001b[0m\u001b[1;33m)\u001b[0m\u001b[1;33m)\u001b[0m\u001b[1;33m:\u001b[0m\u001b[1;33m\u001b[0m\u001b[1;33m\u001b[0m\u001b[0m\n\u001b[0;32m      9\u001b[0m         \u001b[1;32mfor\u001b[0m \u001b[0mj\u001b[0m \u001b[1;32min\u001b[0m \u001b[0mrange\u001b[0m\u001b[1;33m(\u001b[0m\u001b[0mnbrCol\u001b[0m\u001b[1;33m(\u001b[0m\u001b[0mmat\u001b[0m\u001b[1;33m)\u001b[0m\u001b[1;33m)\u001b[0m\u001b[1;33m:\u001b[0m\u001b[1;33m\u001b[0m\u001b[1;33m\u001b[0m\u001b[0m\n\u001b[1;32m---> 10\u001b[1;33m             \u001b[0mmat\u001b[0m\u001b[1;33m[\u001b[0m\u001b[0mi\u001b[0m\u001b[1;33m]\u001b[0m\u001b[1;33m[\u001b[0m\u001b[0mj\u001b[0m\u001b[1;33m]\u001b[0m \u001b[1;33m=\u001b[0m \u001b[0mmatSym\u001b[0m\u001b[1;33m(\u001b[0m\u001b[1;33m[\u001b[0m\u001b[0mi\u001b[0m\u001b[1;33m]\u001b[0m\u001b[1;33m[\u001b[0m\u001b[0mj\u001b[0m\u001b[1;33m]\u001b[0m\u001b[1;33m)\u001b[0m\u001b[1;33m\u001b[0m\u001b[1;33m\u001b[0m\u001b[0m\n\u001b[0m\u001b[0;32m     11\u001b[0m \u001b[1;31m#deuxieme méthode\u001b[0m\u001b[1;33m\u001b[0m\u001b[1;33m\u001b[0m\u001b[0m\n\u001b[0;32m     12\u001b[0m \u001b[1;31m#for i in range(nbrLig(mat)):\u001b[0m\u001b[1;33m\u001b[0m\u001b[1;33m\u001b[0m\u001b[0m\n",
      "\u001b[1;31mTypeError\u001b[0m: 'list' object is not callable"
     ]
    }
   ],
   "source": [
    "matrice=loading(\"tomate.png\")\n",
    "\n",
    "def symetrique(mat):   \n",
    "    matSym = [[(0,0,0,0)]*nbrCol(mat) for k in range(nbrLig(mat))]\n",
    "    for i in range(nbrLig(mat)):\n",
    "        for j in range(nbrCol(mat)):\n",
    "            matSym[i][-1-j] = mat[i][j]\n",
    "    for i in range(nbrLig(mat)):\n",
    "        for j in range(nbrCol(mat)):\n",
    "            mat[i][j] = matSym([i][j])\n",
    "#deuxieme méthode            \n",
    "#for i in range(nbrLig(mat)):\n",
    "#    mat[i].reverse()\n",
    "\n",
    "\n",
    "symetrique(matrice)\n",
    "saving(matrice,\"tomateSym.png\")"
   ]
  },
  {
   "cell_type": "code",
   "execution_count": null,
   "metadata": {},
   "outputs": [],
   "source": []
  }
 ],
 "metadata": {
  "kernelspec": {
   "display_name": "Python 3",
   "language": "python",
   "name": "python3"
  },
  "language_info": {
   "codemirror_mode": {
    "name": "ipython",
    "version": 3
   },
   "file_extension": ".py",
   "mimetype": "text/x-python",
   "name": "python",
   "nbconvert_exporter": "python",
   "pygments_lexer": "ipython3",
   "version": "3.9.7"
  }
 },
 "nbformat": 4,
 "nbformat_minor": 4
}
