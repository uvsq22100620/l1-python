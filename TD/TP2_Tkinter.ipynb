{
 "cells": [
  {
   "cell_type": "markdown",
   "metadata": {},
   "source": [
    "Commencer par importer 'tkinter' et les librairies nécessaires à l'aide des commandes suivantes :"
   ]
  },
  {
   "cell_type": "code",
   "execution_count": 3,
   "metadata": {},
   "outputs": [],
   "source": [
    "import tkinter as tk\n",
    "import PIL as pil\n",
    "from PIL import Image\n",
    "from PIL import ImageTk \n",
    "from tkinter import filedialog\n",
    "from tkinter import simpledialog"
   ]
  },
  {
   "cell_type": "markdown",
   "metadata": {},
   "source": [
    "Créer une fenêtre tkinter qui a pour titre \"Rappel du premier Semestre\" et qui affiche le texte \"J'adore Python !\" dans la fenêtre"
   ]
  },
  {
   "cell_type": "code",
   "execution_count": 3,
   "metadata": {},
   "outputs": [],
   "source": [
    "racine = tk.Tk()\n",
    "racine.title(\"Rappel du premier Semestre\")\n",
    "label = tk.Label(racine, text = \"J'adore Python\", font=(\"helvetica\", 20))\n",
    "label.grid()\n",
    "#label.pack\n",
    "racine.mainloop()"
   ]
  },
  {
   "cell_type": "markdown",
   "metadata": {},
   "source": [
    "Toujours dans la même fenêtre, ajouter maintenant un bouton permettant de quitter la fenêtre, il faudra pour cela \n",
    "créer une fonction callback `fermer_fenetre` qui appelle la méthode `destroy()`"
   ]
  },
  {
   "cell_type": "code",
   "execution_count": 10,
   "metadata": {},
   "outputs": [],
   "source": [
    "def fermer_fenetre():\n",
    "    racine.destroy()\n",
    "\n",
    "racine = tk.Tk()\n",
    "racine.title(\"Rappel du premier Semestre\")\n",
    "label = tk.Label(racine, text = \"J'adore Python\")\n",
    "\n",
    "boutton_fermer = tk.Button(racine, text = \"fermer\", command = fermer_fenetre)\n",
    "\n",
    "label.grid()\n",
    "boutton_fermer.grid()\n",
    "\n",
    "racine.mainloop()"
   ]
  },
  {
   "cell_type": "markdown",
   "metadata": {},
   "source": [
    "Maintenant nous allons modifier la disposition des différents éléments en utilisant une grille pour positionner les éléments dans la fenêtre. Ajouter un canevas rouge à droite du label et du bouton."
   ]
  },
  {
   "cell_type": "code",
   "execution_count": 11,
   "metadata": {},
   "outputs": [],
   "source": [
    "#Faire un canevas de taile 300x300 pour que ce soit lisible\n",
    "def fermer_fenetre():\n",
    "    racine.destroy()\n",
    "\n",
    "racine = tk.Tk()\n",
    "racine.title(\"Rappel du premier Semestre\")\n",
    "label = tk.Label(racine, text = \"J'adore Python\")\n",
    "\n",
    "boutton_fermer = tk.Button(racine, text = \"fermer\", command = fermer_fenetre)\n",
    "canevas = tk.Canvas(racine, height=300, width=300, bg = \"red\")\n",
    "\n",
    "label.grid()\n",
    "boutton_fermer.grid()\n",
    "canevas.grid(column=1, row=0, rowspan=2)\n",
    "\n",
    "racine.mainloop()"
   ]
  },
  {
   "cell_type": "markdown",
   "metadata": {},
   "source": [
    "Ajouter un canevas noir en dessous du canevas rouge précédent. Faire une fonction qui permet de compter le nombre de clics sur le carré rouge. Afficher cette valeur dans le label qui servait à afficher \"j'adore python\". Attention, le compteur du nombre de clics est appelé dans une fonction callback, il faut donc le récupérer en dehors de cette fonction en le déclarant comme variable globale. Utiliser la méthode `bind` pour récupérer le clic de souris."
   ]
  },
  {
   "cell_type": "code",
   "execution_count": 31,
   "metadata": {},
   "outputs": [],
   "source": [
    "racine = tk.Tk()\n",
    "racine.title(\"Rappel du premier Semestre\")\n",
    "\n",
    "cpt = 0\n",
    "\n",
    "def fermer_fenetre():\n",
    "    racine.destroy()\n",
    "\n",
    "def compteur(event):\n",
    "    global cpt\n",
    "    cpt += 1\n",
    "    label.config(text=cpt)\n",
    "    #label['text']=str(cpt)\n",
    "\n",
    "\n",
    "label = tk.Label(racine, text = cpt, font=(\"helvetica\", 20))\n",
    "boutton_fermer = tk.Button(racine, text = \"fermer\", font=(\"helvetica\", 15), bg='red', command = fermer_fenetre)\n",
    "canevas_red = tk.Canvas(racine, height=300, width=300, bg = \"red\")\n",
    "canevas_black = tk.Canvas(racine, height=300, width=300, bg = \"black\")\n",
    "\n",
    "label.grid(row=0, column=0)\n",
    "boutton_fermer.grid(row=2, column=0)\n",
    "canevas_red.grid(column=1, row=0, rowspan=2)\n",
    "canevas_black.grid(column=1, row = 2)\n",
    "canevas_red.bind('<Button-1>', compteur)\n",
    "racine.mainloop()"
   ]
  },
  {
   "cell_type": "markdown",
   "metadata": {},
   "source": [
    "Créer une unique fonction qui renvoie la couleur du canevas sur lequel on a double-cliqué.\n",
    "Afficher la couleur à la place du compteur précédent."
   ]
  },
  {
   "cell_type": "code",
   "execution_count": 4,
   "metadata": {},
   "outputs": [],
   "source": [
    "racine = tk.Tk()\n",
    "racine.title(\"Rappel du premier Semestre\")\n",
    "\n",
    "cpt = 0\n",
    "\n",
    "def fermer_fenetre():\n",
    "    racine.destroy()\n",
    "\n",
    "def compteur(event):\n",
    "    global cpt\n",
    "    cpt += 1\n",
    "    label.config(text=cpt)\n",
    "\n",
    "def couleur_canevas(event):\n",
    "    if (event.widget==canevas_red):\n",
    "        label['text'] = \"Couleur rouge\"\n",
    "    else:\n",
    "        label['text'] = \"Couleur noir\"\n",
    "\n",
    "label = tk.Label(racine, text = cpt, font=(\"helvetica\", 20))\n",
    "boutton_fermer = tk.Button(racine, text = \"fermer\", font=(\"helvetica\", 15), bg='red', command = fermer_fenetre)\n",
    "canevas_red = tk.Canvas(racine, height=300, width=300, bg = \"red\")\n",
    "canevas_black = tk.Canvas(racine, height=300, width=300, bg = \"black\")\n",
    "\n",
    "label.grid(row=0, column=0)\n",
    "boutton_fermer.grid(row=2, column=0)\n",
    "canevas_red.grid(column=1, row=0, rowspan=2)\n",
    "canevas_black.grid(column=1, row = 2)\n",
    "canevas_red.bind('<Double-1>', couleur_canevas)\n",
    "canevas_black.bind('<Double-1>', couleur_canevas)\n",
    "racine.mainloop()"
   ]
  },
  {
   "cell_type": "markdown",
   "metadata": {},
   "source": [
    "REMARQUE : Attention à ne pas mettre deux `bind` différents qui se déclenchent \n",
    "sur une même action sinon seul le dernier sera réalisé.\n",
    "En effet, la variable `event` va être modifiée deux fois et seule sa dernière modification sera donc prise en compte."
   ]
  },
  {
   "cell_type": "markdown",
   "metadata": {},
   "source": [
    "Créer une nouvelle fenêtre qui permet de charger une image depuis un fichier en utilisant la fonction `charger(widg)`. \n",
    "Vous allez devoir passer un paramètre dans la fonction callback `charger`. On ne demande pas de comprendre le fonctionnement de la fonction `charger`."
   ]
  },
  {
   "cell_type": "code",
   "execution_count": 7,
   "metadata": {},
   "outputs": [
    {
     "name": "stdout",
     "output_type": "stream",
     "text": [
      "pyimage1\n"
     ]
    }
   ],
   "source": [
    "create=True\n",
    "\n",
    "def charger(widg):\n",
    "    global create\n",
    "    global photo\n",
    "    global img\n",
    "    global canvas\n",
    "    filename= filedialog.askopenfile(mode='rb', title='Choose a file')\n",
    "    img = pil.Image.open(filename)\n",
    "    photo = ImageTk.PhotoImage(img)\n",
    "    print(photo)\n",
    "    if create:    \n",
    "        canvas = tk.Canvas(widg, width = img.size[0], height = img.size[1])\n",
    "        canvas.create_image(0,0,anchor = tk.NW, image=photo)\n",
    "        canvas.pack()\n",
    "        create=False\n",
    "        \n",
    "    else:\n",
    "        canvas.pack_forget()\n",
    "        canvas = tk.Canvas(widg, width = img.size[0], height = img.size[1])\n",
    "        canvas.create_image(0,0,anchor = tk.NW, image=photo)\n",
    "        canvas.pack()\n",
    "\n",
    "racine = tk.Tk()\n",
    "racine.title(\"Charger une image\")\n",
    "bouton = tk.Button(racine, text=\"charger\", fg =\"red\", command = lambda : charger(racine))\n",
    "bouton.pack()\n",
    "racine.mainloop()"
   ]
  },
  {
   "cell_type": "code",
   "execution_count": null,
   "metadata": {},
   "outputs": [],
   "source": []
  },
  {
   "cell_type": "markdown",
   "metadata": {},
   "source": [
    "(Question supplémentaire) Faire une fenêtre qui :\n",
    "- Permet de taper dans une zone de texte\n",
    "- A un label d'affichage\n",
    "- A deux boutons, respectivement \"Bouton1\" et \"Bouton2\" permettant d'afficher dans le label le numéro du bouton sur lequel on a cliqué\n",
    "- A un dernier bouton qui permet d'afficher dans le label le texte tapé dans la zone de texte"
   ]
  },
  {
   "cell_type": "code",
   "execution_count": 22,
   "metadata": {},
   "outputs": [],
   "source": [
    "racine = tk.Tk()\n",
    "racine.title(\"Question supplémentaire\")\n",
    "\n",
    "def num1():\n",
    "    label['text'] = '1'\n",
    "\n",
    "def num2():\n",
    "    label['text'] = '2'\n",
    "\n",
    "def champs_saisie():\n",
    "    label['text'] = svEntry\n",
    "\n",
    "\n",
    "saisie = tk.Entry(racine, bg='green')\n",
    "label = tk.Label(racine, text=0, bg ='red')\n",
    "svEntry = tk.StringVar()\n",
    "#edit = tk.Entry(racine, textvariable= svEntry)\n",
    "bouton1 = tk.Button(racine, text='Bouton 1', command=num1)\n",
    "bouton2 = tk.Button(racine, text='Bouton 2', command=num2)\n",
    "bouton3 = tk.Button(racine, text='Bouton 3', command=champs_saisie)\n",
    "\n",
    "saisie.grid(column = 0, row = 0)\n",
    "label.grid(column = 0, row = 1)\n",
    "bouton1.grid(column = 0, row = 2)\n",
    "bouton2.grid(column = 0, row = 3)\n",
    "bouton3.grid(column = 0, row = 4)\n",
    "racine.mainloop()"
   ]
  },
  {
   "cell_type": "code",
   "execution_count": 32,
   "metadata": {},
   "outputs": [],
   "source": [
    "def AfficheLabel(txt):\n",
    "    label.config(text = txt)\n",
    "\n",
    "racine= tk.Tk()\n",
    "\n",
    "label =tk.Label(racine, text = \"Clic sur le bouton\")\n",
    "\n",
    "svEntry = tk.StringVar()\n",
    "\n",
    "edit = tk.Entry(racine, textvariable = svEntry)\n",
    "\n",
    "btn1 = tk.Button(racine, text=\"Bouton1\", command= lambda x = 1 : AfficheLabel(\"Clic sur le \"+str(x)))\n",
    "btn2 = tk.Button(racine, text=\"Boutton2\", command = lambda x = 2 : AfficheLabel(\"Clic sur le \"+str(x)))\n",
    "btn3 = tk.Button(racine, text = \"Bouton3\", command = lambda x = svEntry:AfficheLabel(\"Texte : \"+x.get()))\n",
    "\n",
    "label.grid(row = 0, column = 0, columnspan = 3)\n",
    "edit.grid(row=1, columnspan=3)\n",
    "btn1.grid(row=2, column=0)\n",
    "btn2.grid(row=2, column=1)\n",
    "btn3.grid(row=2, column=2)\n",
    "\n",
    "racine.mainloop()"
   ]
  },
  {
   "cell_type": "code",
   "execution_count": 33,
   "metadata": {},
   "outputs": [],
   "source": [
    "def bouton1():\n",
    "    label['text']=btn1['text']\n",
    "\n",
    "def bouton2():\n",
    "    label['text']=btn2['text']\n",
    "\n",
    "def affichetxt():\n",
    "    label['text']=svEntry.get()\n",
    "\n",
    "root = tk.Tk()\n",
    "label = tk.Label(root, text = \"Clic sur le bouton\")\n",
    "label.grid(row = 0, column=0, columnspan=3)\n",
    "\n",
    "svEntry = tk.StringVar()\n",
    "edit = tk.Entry(root, textvariable= svEntry)\n",
    "edit.grid(row=1, columnspan=3)\n",
    "\n",
    "btn1= tk.Button(root, text=\"Bouton1\", command= bouton1)\n",
    "btn2 = tk.Button(root, text=\"Bouton2\", command= bouton2)\n",
    "btn3 = tk.Button(root, text=\"Bouton3\", command = affichetxt)\n",
    "btn1.grid(row=2, column=0)\n",
    "btn2.grid(row=2, column=1)\n",
    "btn3.grid(row=2, column=2)\n",
    "\n",
    "root.mainloop()"
   ]
  },
  {
   "cell_type": "code",
   "execution_count": null,
   "metadata": {},
   "outputs": [],
   "source": []
  }
 ],
 "metadata": {
  "kernelspec": {
   "display_name": "Python 3",
   "language": "python",
   "name": "python3"
  },
  "language_info": {
   "codemirror_mode": {
    "name": "ipython",
    "version": 3
   },
   "file_extension": ".py",
   "mimetype": "text/x-python",
   "name": "python",
   "nbconvert_exporter": "python",
   "pygments_lexer": "ipython3",
   "version": "3.9.7"
  }
 },
 "nbformat": 4,
 "nbformat_minor": 4
}
