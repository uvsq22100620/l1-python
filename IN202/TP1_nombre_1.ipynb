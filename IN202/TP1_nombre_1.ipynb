{
 "cells": [
  {
   "cell_type": "markdown",
   "metadata": {},
   "source": [
    "# TD1 Représentation de nombres"
   ]
  },
  {
   "cell_type": "markdown",
   "metadata": {},
   "source": [
    "Exercice sur papier:\n",
    "\n",
    "1. Convertir en binaire le nombre 115 (division successive par 2).\n",
    "2. Donner la représentation de -115 en complément à 2 sur 8 bits.\n",
    "3. Donner la représentation de 12,625 comme un flottant. "
   ]
  },
  {
   "cell_type": "markdown",
   "metadata": {},
   "source": [
    "On représente un entier en binaire par une liste de 0 et de 1. Donner une fonction `conversionBase2(nombre)`\n",
    "qui transforme un entier en sa représentation binaire. Attention, les bits sont calculés dans l'ordre inverse\n",
    "(little endian), il faudra sans doute renverser la liste avec la méthode `.reverse()`."
   ]
  },
  {
   "cell_type": "markdown",
   "metadata": {},
   "source": [
    "1. Transformer un nombre en base 10 en un nombre en base 2:\n",
    "    Tant que le nombre est différent de 0, le dviser par 2 et récupérer le reste.\n",
    "    La suite des restes de droite à gauche donne l'écriture en base 2.\n",
    "2. Nombres négatifs:Réprésentation naïve\n",
    "    - Avec un bit de signe : 1 si le nombre est négatif\n",
    "                             0 si le nombre est positif\n",
    "    Problèmes :\n",
    "        - Sur 8 bits : 00000000 = zéro\n",
    "                       10000000 = zéro\n",
    "        - Opérations arithmétique : (3)b10 = (00000011)b2\n",
    "                                    (-4)b10 = (10000100)b2\n",
    "                                    addition : 3 + (-4) = -1\n",
    "                                    (00000011)b2\n",
    "                                   +(10000100)b2\n",
    "                                   =(10000111)b2 = -7\n",
    "    Solution : \n",
    "    Complément à 2 sur 8 bits : nombrea sur b bits : (2**b-1)-a\n",
    "    b =8\n",
    "    a = -115\n",
    "    -155 s'écrit comme 2**7 -(-115) = 243 \n",
    "\n",
    "    3. Un flottant est codé sur 32 bits :\n",
    "        -1**b  x (1,m)b2 x 2**e-127\n",
    "                    - un bit de signe b\n",
    "                    - un exposant e sur 8 bits\n",
    "                    - une manisse m sur 23 bits\n",
    "                    - Pour la partie décimale, on multiplie par 2 jusqu'à trouver 1.\n",
    "    ex : (12,625)b10\n",
    "        0,625 => 0,635 x 2 = 1,25 = 1 + 0,25\n",
    "        0,25 x 2 = 0,5 = 0 + 0,5\n",
    "        0,5 x 2 = 1 = 1 + 0\n",
    "        => (101)b2\n",
    "    (12,625)b10 = (1100,101)b2\n",
    "                = (1,100101)b2 x 2**3\n",
    "                = (-1)**0 x (1,100101)b2 x 2**3\n",
    "            b = 0\n",
    "            e = 130 = (10000010)b2\n",
    "            m = 100101\n"
   ]
  },
  {
   "cell_type": "code",
   "execution_count": 27,
   "metadata": {},
   "outputs": [
    {
     "data": {
      "text/plain": [
       "[1, 1, 1, 0, 0, 1, 1]"
      ]
     },
     "execution_count": 27,
     "metadata": {},
     "output_type": "execute_result"
    }
   ],
   "source": [
    "def conversionBase2(nombre: int) -> list:\n",
    "    if(nombre==0):\n",
    "        return [0]\n",
    "    res = []\n",
    "    while nombre > 0:\n",
    "        res.append(nombre%2)\n",
    "        nombre //= 2\n",
    "    res.reverse()\n",
    "    return res\n",
    "    \n",
    "conversionBase2(115)"
   ]
  },
  {
   "cell_type": "markdown",
   "metadata": {},
   "source": [
    "Faire une fonction d'affichage d'une liste représentant un nombre en binaire. Pour afficher avec `print` sans passer à la ligne il faut utiliser l'argument optionnel end=\"\"."
   ]
  },
  {
   "cell_type": "code",
   "execution_count": 2,
   "metadata": {},
   "outputs": [
    {
     "name": "stdout",
     "output_type": "stream",
     "text": [
      "1110011"
     ]
    }
   ],
   "source": [
    "def afficheBase(liste:list):\n",
    "    for elt in liste:\n",
    "        print(elt, end=\"\")\n",
    "\n",
    "afficheBase(conversionBase2(115))"
   ]
  },
  {
   "cell_type": "markdown",
   "metadata": {},
   "source": [
    "Convertir un nombre dans n'importe quelle base b (représentée comme une liste des chiffres dans cette base).\n",
    "Que faut-il changer dans `conversionBase2` pour gérer n'importe quelle base ?"
   ]
  },
  {
   "cell_type": "code",
   "execution_count": 3,
   "metadata": {},
   "outputs": [
    {
     "data": {
      "text/plain": [
       "[1, 1, 1, 0, 0, 1, 1]"
      ]
     },
     "execution_count": 3,
     "metadata": {},
     "output_type": "execute_result"
    }
   ],
   "source": [
    "def conversionBase(nombre,b):\n",
    "    if(nombre==0):\n",
    "        return [0]\n",
    "    res = []\n",
    "    while nombre != 0:\n",
    "        res.append(nombre%b)\n",
    "        nombre = nombre//b\n",
    "    res.reverse()\n",
    "    return res\n",
    "\n",
    "conversionBase(115,2)"
   ]
  },
  {
   "cell_type": "code",
   "execution_count": 4,
   "metadata": {},
   "outputs": [
    {
     "data": {
      "text/plain": [
       "[2, 2, 11, 8]"
      ]
     },
     "execution_count": 4,
     "metadata": {},
     "output_type": "execute_result"
    }
   ],
   "source": [
    "conversionBase(8888,16)"
   ]
  },
  {
   "cell_type": "markdown",
   "metadata": {},
   "source": [
    "Quels sont les nombres entiers qu'on peut écrire avec n chiffres en base b ?"
   ]
  },
  {
   "cell_type": "markdown",
   "metadata": {},
   "source": [
    "avec 3 (=n) chiffres en base 2:\n",
    "b**n-1->   2**2 = 4= (100)b2\n",
    "           5 = (101)b2\n",
    "           6 = (110)b2\n",
    "           7 = (111)b2\n",
    "b**n ->    2**3= 8 = (1000)b2\n",
    "avec n chiffresen base b : on peut écrire les nombres entiers compris entre b**n-1 inclus et b**n exclus."
   ]
  },
  {
   "cell_type": "markdown",
   "metadata": {},
   "source": [
    "Écrire une fonction d'affichage pour un nombre en Hexadécimal (en base 16).\n",
    "On rappelle que 10 doit être représenté par A, 11 par B ..."
   ]
  },
  {
   "cell_type": "code",
   "execution_count": 5,
   "metadata": {},
   "outputs": [
    {
     "name": "stdout",
     "output_type": "stream",
     "text": [
      "22B8"
     ]
    }
   ],
   "source": [
    "def afficheBaseHexa(liste):\n",
    "    for v in liste:\n",
    "        if(v == 10):\n",
    "            print('A',end=\"\")\n",
    "        elif v == 11 :\n",
    "            print('B', end=\"\")\n",
    "        elif v == 12 :\n",
    "            print('C', end=\"\")\n",
    "        elif v == 13 :\n",
    "            print('D', end=\"\")\n",
    "        elif v == 14 :\n",
    "            print('E', end=\"\")\n",
    "        elif v == 15 :\n",
    "            print('F', end=\"\")\n",
    "        else :\n",
    "            print(v, end=\"\")\n",
    "            \n",
    "afficheBaseHexa(conversionBase(8888,16))"
   ]
  },
  {
   "cell_type": "markdown",
   "metadata": {},
   "source": [
    "Donner la valeur de $(1001101)_2$ (dans la représentation traditionnelle en base 10).\n",
    "Écrire une fonction qui transforme la représentation en base b d'un entier en cet entier."
   ]
  },
  {
   "cell_type": "markdown",
   "metadata": {},
   "source": [
    "77"
   ]
  },
  {
   "cell_type": "code",
   "execution_count": 7,
   "metadata": {},
   "outputs": [
    {
     "data": {
      "text/plain": [
       "115"
      ]
     },
     "execution_count": 7,
     "metadata": {},
     "output_type": "execute_result"
    }
   ],
   "source": [
    "def conversionEntier(liste,b):\n",
    "    res = 0\n",
    "    for i in range(len(liste)) :\n",
    "        v = len(liste)-1-i\n",
    "        res += liste[i]*b**(v)\n",
    "    return res\n",
    "    \n",
    "\n",
    "test = conversionBase(115,2)\n",
    "conversionEntier(test,2)"
   ]
  },
  {
   "cell_type": "code",
   "execution_count": null,
   "metadata": {},
   "outputs": [],
   "source": [
    "def conversionEntier(liste,b):\n",
    "    res = 0\n",
    "    liste.reverse()\n",
    "    for i in range(len(liste)) :\n",
    "        res += liste[i]*(b**i)\n",
    "    return res"
   ]
  },
  {
   "cell_type": "code",
   "execution_count": null,
   "metadata": {},
   "outputs": [],
   "source": [
    "def conversionEntier(liste,b):\n",
    "    res = 0\n",
    "    for i in range(len(liste)) :\n",
    "        res += liste[-i-1]*(b**i)\n",
    "    return res"
   ]
  },
  {
   "cell_type": "markdown",
   "metadata": {},
   "source": [
    "Additioner $(10001101)_2$ et $(10111001)_2$ à la main. "
   ]
  },
  {
   "cell_type": "code",
   "execution_count": 33,
   "metadata": {},
   "outputs": [
    {
     "data": {
      "text/plain": [
       "326"
      ]
     },
     "execution_count": 33,
     "metadata": {},
     "output_type": "execute_result"
    }
   ],
   "source": [
    "0b10001101 + 0b10111001"
   ]
  },
  {
   "cell_type": "code",
   "execution_count": 34,
   "metadata": {},
   "outputs": [
    {
     "data": {
      "text/plain": [
       "'0b101000110'"
      ]
     },
     "execution_count": 34,
     "metadata": {},
     "output_type": "execute_result"
    }
   ],
   "source": [
    "bin(326)"
   ]
  },
  {
   "cell_type": "markdown",
   "metadata": {},
   "source": [
    "On a `l` un nombre en base b et on veut l'écrire sur n chiffres (en ajoutant des 0 devant). Donner une fonction pour réaliser cette transformation."
   ]
  },
  {
   "cell_type": "code",
   "execution_count": 13,
   "metadata": {},
   "outputs": [
    {
     "data": {
      "text/plain": [
       "[0, 0, 0, 1, 1, 1, 0, 0, 1, 1]"
      ]
     },
     "execution_count": 13,
     "metadata": {},
     "output_type": "execute_result"
    }
   ],
   "source": [
    "def etendreEcriture(l,n):\n",
    "    diff = 0\n",
    "    if len(l)<n:\n",
    "        diff = n - len(l)\n",
    "        while diff != 0:\n",
    "            l.insert(0, 0)\n",
    "            diff -= 1\n",
    "    return l\n",
    "etendreEcriture(test,10)"
   ]
  },
  {
   "cell_type": "code",
   "execution_count": 31,
   "metadata": {},
   "outputs": [
    {
     "data": {
      "text/plain": [
       "[0, 0, 0, 1, 1, 1, 0, 0, 1, 1]"
      ]
     },
     "execution_count": 31,
     "metadata": {},
     "output_type": "execute_result"
    }
   ],
   "source": [
    "def etendreEcriture2(l, n):\n",
    "    while len(l) != n:\n",
    "        l.insert(0,0)\n",
    "    return l\n",
    "\n",
    "etendreEcriture2(test,10)"
   ]
  },
  {
   "cell_type": "code",
   "execution_count": null,
   "metadata": {},
   "outputs": [],
   "source": [
    "def etendreEcriture3(l,n):\n",
    "    t = n-len(l)\n",
    "    for i in range(t):\n",
    "        l.insert(0,0)"
   ]
  },
  {
   "cell_type": "code",
   "execution_count": null,
   "metadata": {},
   "outputs": [],
   "source": [
    "def etendreEcriture4(l,n):\n",
    "    t = n-len(l)\n",
    "    res = [0]*t\n",
    "    res.extend(l)\n",
    "    return res"
   ]
  },
  {
   "cell_type": "markdown",
   "metadata": {},
   "source": [
    "Réaliser ensuite un programme qui additionne la représentation en base b de deux entiers.\n",
    "On pourra utiliser la méthode `.insert(pos,val)` qui ajoute val à la position pos."
   ]
  },
  {
   "cell_type": "code",
   "execution_count": 28,
   "metadata": {},
   "outputs": [
    {
     "data": {
      "text/plain": [
       "[1, 1, 0, 0, 1]"
      ]
     },
     "execution_count": 28,
     "metadata": {},
     "output_type": "execute_result"
    }
   ],
   "source": [
    "\n",
    "#Algorithme d'addition du primaire\n",
    "\n",
    "def addition(l1,l2,b):\n",
    "    if(len(l1) > len(l2)):\n",
    "        l2 = etendreEcriture(l2,len(l1))\n",
    "    else:\n",
    "        l1 = etendreEcriture(l1,len(l2))\n",
    "    res = []\n",
    "    i = len(l1)-1\n",
    "    for i in range(len(l1)-1, -1, -1):\n",
    "        x = l1[i] + l2[i]\n",
    "        if x == 3 :\n",
    "            res.insert(0,1)\n",
    "            l1[i-1]+=1\n",
    "        elif x == 2 :\n",
    "            if i == 0:\n",
    "                res.insert(0,0)\n",
    "                res.insert(0,1)\n",
    "            else :\n",
    "                res.insert(0,0)\n",
    "                l1[i-1] += 1\n",
    "        elif x == 1 :\n",
    "            res.insert(0,1)\n",
    "        else :\n",
    "            res.insert(0,0)\n",
    "    return res\n",
    "\n",
    "test1 = conversionBase(7,2)\n",
    "test2 = conversionBase(18,2)\n",
    "\n",
    "addition(test1,test2,2)"
   ]
  },
  {
   "cell_type": "code",
   "execution_count": 33,
   "metadata": {},
   "outputs": [],
   "source": [
    "def addition2(l1,l2,b):\n",
    "    if(len(l1) > len(l2)):\n",
    "        l2 = etendreEcriture(l2,len(l1))\n",
    "    else:\n",
    "        l1 = etendreEcriture(l1,len(l2))\n",
    "    retenue = 0\n",
    "    res = []\n",
    "    t = len(l1)\n",
    "    for i in range(t):\n",
    "        v = l1[-i-1]+l2[-i-1] + retenue\n",
    "        retenue = 0\n",
    "        if v >= b:\n",
    "            retenue = 1\n",
    "            v = v-b\n",
    "        res.insert(0,v)\n",
    "    if retenue == 1:\n",
    "        res.insert(0,1)\n",
    "    return res"
   ]
  },
  {
   "cell_type": "code",
   "execution_count": 35,
   "metadata": {},
   "outputs": [
    {
     "data": {
      "text/plain": [
       "[1, 0, 1, 1, 0, 0, 0]"
      ]
     },
     "execution_count": 35,
     "metadata": {},
     "output_type": "execute_result"
    }
   ],
   "source": [
    "a = conversionBase(32,2)\n",
    "b = conversionBase(56,2)\n",
    "addition(a,b,2)\n"
   ]
  },
  {
   "cell_type": "code",
   "execution_count": 37,
   "metadata": {},
   "outputs": [
    {
     "data": {
      "text/plain": [
       "[1, 1, 1, 1, 1]"
      ]
     },
     "execution_count": 37,
     "metadata": {},
     "output_type": "execute_result"
    }
   ],
   "source": [
    "addition2(test1,test2,2)"
   ]
  },
  {
   "cell_type": "code",
   "execution_count": 36,
   "metadata": {},
   "outputs": [
    {
     "data": {
      "text/plain": [
       "[1, 0, 1, 1, 0, 0, 0]"
      ]
     },
     "execution_count": 36,
     "metadata": {},
     "output_type": "execute_result"
    }
   ],
   "source": [
    "addition2(a,b,2)"
   ]
  },
  {
   "cell_type": "code",
   "execution_count": null,
   "metadata": {},
   "outputs": [],
   "source": []
  }
 ],
 "metadata": {
  "interpreter": {
   "hash": "c96b6d2235791a225a0f5b6a6c59905d76507cff6e85b97f99c77e50813bcce8"
  },
  "kernelspec": {
   "display_name": "Python 3.9.5 64-bit ('base': conda)",
   "name": "python3"
  },
  "language_info": {
   "codemirror_mode": {
    "name": "ipython",
    "version": 3
   },
   "file_extension": ".py",
   "mimetype": "text/x-python",
   "name": "python",
   "nbconvert_exporter": "python",
   "pygments_lexer": "ipython3",
   "version": "3.9.5"
  }
 },
 "nbformat": 4,
 "nbformat_minor": 4
}
